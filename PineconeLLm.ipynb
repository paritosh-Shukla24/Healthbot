{
  "nbformat": 4,
  "nbformat_minor": 0,
  "metadata": {
    "colab": {
      "provenance": []
    },
    "kernelspec": {
      "name": "python3",
      "display_name": "Python 3"
    },
    "language_info": {
      "name": "python"
    }
  },
  "cells": [
    {
      "cell_type": "code",
      "execution_count": 1,
      "metadata": {
        "colab": {
          "base_uri": "https://localhost:8080/"
        },
        "id": "ZGPQY6JBaiCj",
        "outputId": "eb3359f4-8a31-4740-a7c7-c269a0b52074"
      },
      "outputs": [
        {
          "output_type": "stream",
          "name": "stdout",
          "text": [
            "Requirement already satisfied: langchain in /usr/local/lib/python3.10/dist-packages (0.1.4)\n",
            "Requirement already satisfied: PyYAML>=5.3 in /usr/local/lib/python3.10/dist-packages (from langchain) (6.0.1)\n",
            "Requirement already satisfied: SQLAlchemy<3,>=1.4 in /usr/local/lib/python3.10/dist-packages (from langchain) (2.0.24)\n",
            "Requirement already satisfied: aiohttp<4.0.0,>=3.8.3 in /usr/local/lib/python3.10/dist-packages (from langchain) (3.9.1)\n",
            "Requirement already satisfied: async-timeout<5.0.0,>=4.0.0 in /usr/local/lib/python3.10/dist-packages (from langchain) (4.0.3)\n",
            "Requirement already satisfied: dataclasses-json<0.7,>=0.5.7 in /usr/local/lib/python3.10/dist-packages (from langchain) (0.6.3)\n",
            "Requirement already satisfied: jsonpatch<2.0,>=1.33 in /usr/local/lib/python3.10/dist-packages (from langchain) (1.33)\n",
            "Requirement already satisfied: langchain-community<0.1,>=0.0.14 in /usr/local/lib/python3.10/dist-packages (from langchain) (0.0.16)\n",
            "Requirement already satisfied: langchain-core<0.2,>=0.1.16 in /usr/local/lib/python3.10/dist-packages (from langchain) (0.1.16)\n",
            "Requirement already satisfied: langsmith<0.1,>=0.0.83 in /usr/local/lib/python3.10/dist-packages (from langchain) (0.0.83)\n",
            "Requirement already satisfied: numpy<2,>=1 in /usr/local/lib/python3.10/dist-packages (from langchain) (1.23.5)\n",
            "Requirement already satisfied: pydantic<3,>=1 in /usr/local/lib/python3.10/dist-packages (from langchain) (1.10.14)\n",
            "Requirement already satisfied: requests<3,>=2 in /usr/local/lib/python3.10/dist-packages (from langchain) (2.31.0)\n",
            "Requirement already satisfied: tenacity<9.0.0,>=8.1.0 in /usr/local/lib/python3.10/dist-packages (from langchain) (8.2.3)\n",
            "Requirement already satisfied: attrs>=17.3.0 in /usr/local/lib/python3.10/dist-packages (from aiohttp<4.0.0,>=3.8.3->langchain) (23.2.0)\n",
            "Requirement already satisfied: multidict<7.0,>=4.5 in /usr/local/lib/python3.10/dist-packages (from aiohttp<4.0.0,>=3.8.3->langchain) (6.0.4)\n",
            "Requirement already satisfied: yarl<2.0,>=1.0 in /usr/local/lib/python3.10/dist-packages (from aiohttp<4.0.0,>=3.8.3->langchain) (1.9.4)\n",
            "Requirement already satisfied: frozenlist>=1.1.1 in /usr/local/lib/python3.10/dist-packages (from aiohttp<4.0.0,>=3.8.3->langchain) (1.4.1)\n",
            "Requirement already satisfied: aiosignal>=1.1.2 in /usr/local/lib/python3.10/dist-packages (from aiohttp<4.0.0,>=3.8.3->langchain) (1.3.1)\n",
            "Requirement already satisfied: marshmallow<4.0.0,>=3.18.0 in /usr/local/lib/python3.10/dist-packages (from dataclasses-json<0.7,>=0.5.7->langchain) (3.20.2)\n",
            "Requirement already satisfied: typing-inspect<1,>=0.4.0 in /usr/local/lib/python3.10/dist-packages (from dataclasses-json<0.7,>=0.5.7->langchain) (0.9.0)\n",
            "Requirement already satisfied: jsonpointer>=1.9 in /usr/local/lib/python3.10/dist-packages (from jsonpatch<2.0,>=1.33->langchain) (2.4)\n",
            "Requirement already satisfied: anyio<5,>=3 in /usr/local/lib/python3.10/dist-packages (from langchain-core<0.2,>=0.1.16->langchain) (3.7.1)\n",
            "Requirement already satisfied: packaging<24.0,>=23.2 in /usr/local/lib/python3.10/dist-packages (from langchain-core<0.2,>=0.1.16->langchain) (23.2)\n",
            "Requirement already satisfied: typing-extensions>=4.2.0 in /usr/local/lib/python3.10/dist-packages (from pydantic<3,>=1->langchain) (4.9.0)\n",
            "Requirement already satisfied: charset-normalizer<4,>=2 in /usr/local/lib/python3.10/dist-packages (from requests<3,>=2->langchain) (3.3.2)\n",
            "Requirement already satisfied: idna<4,>=2.5 in /usr/local/lib/python3.10/dist-packages (from requests<3,>=2->langchain) (3.6)\n",
            "Requirement already satisfied: urllib3<3,>=1.21.1 in /usr/local/lib/python3.10/dist-packages (from requests<3,>=2->langchain) (2.0.7)\n",
            "Requirement already satisfied: certifi>=2017.4.17 in /usr/local/lib/python3.10/dist-packages (from requests<3,>=2->langchain) (2023.11.17)\n",
            "Requirement already satisfied: greenlet!=0.4.17 in /usr/local/lib/python3.10/dist-packages (from SQLAlchemy<3,>=1.4->langchain) (3.0.3)\n",
            "Requirement already satisfied: sniffio>=1.1 in /usr/local/lib/python3.10/dist-packages (from anyio<5,>=3->langchain-core<0.2,>=0.1.16->langchain) (1.3.0)\n",
            "Requirement already satisfied: exceptiongroup in /usr/local/lib/python3.10/dist-packages (from anyio<5,>=3->langchain-core<0.2,>=0.1.16->langchain) (1.2.0)\n",
            "Requirement already satisfied: mypy-extensions>=0.3.0 in /usr/local/lib/python3.10/dist-packages (from typing-inspect<1,>=0.4.0->dataclasses-json<0.7,>=0.5.7->langchain) (1.0.0)\n",
            "Requirement already satisfied: pypdf in /usr/local/lib/python3.10/dist-packages (4.0.0)\n",
            "Requirement already satisfied: unstructured in /usr/local/lib/python3.10/dist-packages (0.12.2)\n",
            "Requirement already satisfied: chardet in /usr/local/lib/python3.10/dist-packages (from unstructured) (5.2.0)\n",
            "Requirement already satisfied: filetype in /usr/local/lib/python3.10/dist-packages (from unstructured) (1.2.0)\n",
            "Requirement already satisfied: python-magic in /usr/local/lib/python3.10/dist-packages (from unstructured) (0.4.27)\n",
            "Requirement already satisfied: lxml in /usr/local/lib/python3.10/dist-packages (from unstructured) (4.9.4)\n",
            "Requirement already satisfied: nltk in /usr/local/lib/python3.10/dist-packages (from unstructured) (3.8.1)\n",
            "Requirement already satisfied: tabulate in /usr/local/lib/python3.10/dist-packages (from unstructured) (0.9.0)\n",
            "Requirement already satisfied: requests in /usr/local/lib/python3.10/dist-packages (from unstructured) (2.31.0)\n",
            "Requirement already satisfied: beautifulsoup4 in /usr/local/lib/python3.10/dist-packages (from unstructured) (4.11.2)\n",
            "Requirement already satisfied: emoji in /usr/local/lib/python3.10/dist-packages (from unstructured) (2.10.0)\n",
            "Requirement already satisfied: dataclasses-json in /usr/local/lib/python3.10/dist-packages (from unstructured) (0.6.3)\n",
            "Requirement already satisfied: python-iso639 in /usr/local/lib/python3.10/dist-packages (from unstructured) (2024.1.2)\n",
            "Requirement already satisfied: langdetect in /usr/local/lib/python3.10/dist-packages (from unstructured) (1.0.9)\n",
            "Requirement already satisfied: numpy in /usr/local/lib/python3.10/dist-packages (from unstructured) (1.23.5)\n",
            "Requirement already satisfied: rapidfuzz in /usr/local/lib/python3.10/dist-packages (from unstructured) (3.6.1)\n",
            "Requirement already satisfied: backoff in /usr/local/lib/python3.10/dist-packages (from unstructured) (2.2.1)\n",
            "Requirement already satisfied: typing-extensions in /usr/local/lib/python3.10/dist-packages (from unstructured) (4.9.0)\n",
            "Requirement already satisfied: unstructured-client>=0.15.1 in /usr/local/lib/python3.10/dist-packages (from unstructured) (0.16.0)\n",
            "Requirement already satisfied: wrapt in /usr/local/lib/python3.10/dist-packages (from unstructured) (1.14.1)\n",
            "Requirement already satisfied: certifi>=2023.7.22 in /usr/local/lib/python3.10/dist-packages (from unstructured-client>=0.15.1->unstructured) (2023.11.17)\n",
            "Requirement already satisfied: charset-normalizer>=3.2.0 in /usr/local/lib/python3.10/dist-packages (from unstructured-client>=0.15.1->unstructured) (3.3.2)\n",
            "Requirement already satisfied: idna>=3.4 in /usr/local/lib/python3.10/dist-packages (from unstructured-client>=0.15.1->unstructured) (3.6)\n",
            "Requirement already satisfied: jsonpath-python>=1.0.6 in /usr/local/lib/python3.10/dist-packages (from unstructured-client>=0.15.1->unstructured) (1.0.6)\n",
            "Requirement already satisfied: marshmallow>=3.19.0 in /usr/local/lib/python3.10/dist-packages (from unstructured-client>=0.15.1->unstructured) (3.20.2)\n",
            "Requirement already satisfied: mypy-extensions>=1.0.0 in /usr/local/lib/python3.10/dist-packages (from unstructured-client>=0.15.1->unstructured) (1.0.0)\n",
            "Requirement already satisfied: packaging>=23.1 in /usr/local/lib/python3.10/dist-packages (from unstructured-client>=0.15.1->unstructured) (23.2)\n",
            "Requirement already satisfied: python-dateutil>=2.8.2 in /usr/local/lib/python3.10/dist-packages (from unstructured-client>=0.15.1->unstructured) (2.8.2)\n",
            "Requirement already satisfied: six>=1.16.0 in /usr/local/lib/python3.10/dist-packages (from unstructured-client>=0.15.1->unstructured) (1.16.0)\n",
            "Requirement already satisfied: typing-inspect>=0.9.0 in /usr/local/lib/python3.10/dist-packages (from unstructured-client>=0.15.1->unstructured) (0.9.0)\n",
            "Requirement already satisfied: urllib3>=1.26.18 in /usr/local/lib/python3.10/dist-packages (from unstructured-client>=0.15.1->unstructured) (2.0.7)\n",
            "Requirement already satisfied: soupsieve>1.2 in /usr/local/lib/python3.10/dist-packages (from beautifulsoup4->unstructured) (2.5)\n",
            "Requirement already satisfied: click in /usr/local/lib/python3.10/dist-packages (from nltk->unstructured) (8.1.7)\n",
            "Requirement already satisfied: joblib in /usr/local/lib/python3.10/dist-packages (from nltk->unstructured) (1.3.2)\n",
            "Requirement already satisfied: regex>=2021.8.3 in /usr/local/lib/python3.10/dist-packages (from nltk->unstructured) (2023.6.3)\n",
            "Requirement already satisfied: tqdm in /usr/local/lib/python3.10/dist-packages (from nltk->unstructured) (4.66.1)\n",
            "Requirement already satisfied: sentence_transformers in /usr/local/lib/python3.10/dist-packages (2.2.2)\n",
            "Requirement already satisfied: transformers<5.0.0,>=4.6.0 in /usr/local/lib/python3.10/dist-packages (from sentence_transformers) (4.35.2)\n",
            "Requirement already satisfied: tqdm in /usr/local/lib/python3.10/dist-packages (from sentence_transformers) (4.66.1)\n",
            "Requirement already satisfied: torch>=1.6.0 in /usr/local/lib/python3.10/dist-packages (from sentence_transformers) (2.1.2)\n",
            "Requirement already satisfied: torchvision in /usr/local/lib/python3.10/dist-packages (from sentence_transformers) (0.16.0+cu121)\n",
            "Requirement already satisfied: numpy in /usr/local/lib/python3.10/dist-packages (from sentence_transformers) (1.23.5)\n",
            "Requirement already satisfied: scikit-learn in /usr/local/lib/python3.10/dist-packages (from sentence_transformers) (1.2.2)\n",
            "Requirement already satisfied: scipy in /usr/local/lib/python3.10/dist-packages (from sentence_transformers) (1.11.4)\n",
            "Requirement already satisfied: nltk in /usr/local/lib/python3.10/dist-packages (from sentence_transformers) (3.8.1)\n",
            "Requirement already satisfied: sentencepiece in /usr/local/lib/python3.10/dist-packages (from sentence_transformers) (0.1.99)\n",
            "Requirement already satisfied: huggingface-hub>=0.4.0 in /usr/local/lib/python3.10/dist-packages (from sentence_transformers) (0.20.3)\n",
            "Requirement already satisfied: filelock in /usr/local/lib/python3.10/dist-packages (from huggingface-hub>=0.4.0->sentence_transformers) (3.13.1)\n",
            "Requirement already satisfied: fsspec>=2023.5.0 in /usr/local/lib/python3.10/dist-packages (from huggingface-hub>=0.4.0->sentence_transformers) (2023.6.0)\n",
            "Requirement already satisfied: requests in /usr/local/lib/python3.10/dist-packages (from huggingface-hub>=0.4.0->sentence_transformers) (2.31.0)\n",
            "Requirement already satisfied: pyyaml>=5.1 in /usr/local/lib/python3.10/dist-packages (from huggingface-hub>=0.4.0->sentence_transformers) (6.0.1)\n",
            "Requirement already satisfied: typing-extensions>=3.7.4.3 in /usr/local/lib/python3.10/dist-packages (from huggingface-hub>=0.4.0->sentence_transformers) (4.9.0)\n",
            "Requirement already satisfied: packaging>=20.9 in /usr/local/lib/python3.10/dist-packages (from huggingface-hub>=0.4.0->sentence_transformers) (23.2)\n",
            "Requirement already satisfied: sympy in /usr/local/lib/python3.10/dist-packages (from torch>=1.6.0->sentence_transformers) (1.12)\n",
            "Requirement already satisfied: networkx in /usr/local/lib/python3.10/dist-packages (from torch>=1.6.0->sentence_transformers) (3.2.1)\n",
            "Requirement already satisfied: jinja2 in /usr/local/lib/python3.10/dist-packages (from torch>=1.6.0->sentence_transformers) (3.1.3)\n",
            "Requirement already satisfied: nvidia-cuda-nvrtc-cu12==12.1.105 in /usr/local/lib/python3.10/dist-packages (from torch>=1.6.0->sentence_transformers) (12.1.105)\n",
            "Requirement already satisfied: nvidia-cuda-runtime-cu12==12.1.105 in /usr/local/lib/python3.10/dist-packages (from torch>=1.6.0->sentence_transformers) (12.1.105)\n",
            "Requirement already satisfied: nvidia-cuda-cupti-cu12==12.1.105 in /usr/local/lib/python3.10/dist-packages (from torch>=1.6.0->sentence_transformers) (12.1.105)\n",
            "Requirement already satisfied: nvidia-cudnn-cu12==8.9.2.26 in /usr/local/lib/python3.10/dist-packages (from torch>=1.6.0->sentence_transformers) (8.9.2.26)\n",
            "Requirement already satisfied: nvidia-cublas-cu12==12.1.3.1 in /usr/local/lib/python3.10/dist-packages (from torch>=1.6.0->sentence_transformers) (12.1.3.1)\n",
            "Requirement already satisfied: nvidia-cufft-cu12==11.0.2.54 in /usr/local/lib/python3.10/dist-packages (from torch>=1.6.0->sentence_transformers) (11.0.2.54)\n",
            "Requirement already satisfied: nvidia-curand-cu12==10.3.2.106 in /usr/local/lib/python3.10/dist-packages (from torch>=1.6.0->sentence_transformers) (10.3.2.106)\n",
            "Requirement already satisfied: nvidia-cusolver-cu12==11.4.5.107 in /usr/local/lib/python3.10/dist-packages (from torch>=1.6.0->sentence_transformers) (11.4.5.107)\n",
            "Requirement already satisfied: nvidia-cusparse-cu12==12.1.0.106 in /usr/local/lib/python3.10/dist-packages (from torch>=1.6.0->sentence_transformers) (12.1.0.106)\n",
            "Requirement already satisfied: nvidia-nccl-cu12==2.18.1 in /usr/local/lib/python3.10/dist-packages (from torch>=1.6.0->sentence_transformers) (2.18.1)\n",
            "Requirement already satisfied: nvidia-nvtx-cu12==12.1.105 in /usr/local/lib/python3.10/dist-packages (from torch>=1.6.0->sentence_transformers) (12.1.105)\n",
            "Requirement already satisfied: triton==2.1.0 in /usr/local/lib/python3.10/dist-packages (from torch>=1.6.0->sentence_transformers) (2.1.0)\n",
            "Requirement already satisfied: nvidia-nvjitlink-cu12 in /usr/local/lib/python3.10/dist-packages (from nvidia-cusolver-cu12==11.4.5.107->torch>=1.6.0->sentence_transformers) (12.3.101)\n",
            "Requirement already satisfied: regex!=2019.12.17 in /usr/local/lib/python3.10/dist-packages (from transformers<5.0.0,>=4.6.0->sentence_transformers) (2023.6.3)\n",
            "Requirement already satisfied: tokenizers<0.19,>=0.14 in /usr/local/lib/python3.10/dist-packages (from transformers<5.0.0,>=4.6.0->sentence_transformers) (0.15.1)\n",
            "Requirement already satisfied: safetensors>=0.3.1 in /usr/local/lib/python3.10/dist-packages (from transformers<5.0.0,>=4.6.0->sentence_transformers) (0.4.1)\n",
            "Requirement already satisfied: click in /usr/local/lib/python3.10/dist-packages (from nltk->sentence_transformers) (8.1.7)\n",
            "Requirement already satisfied: joblib in /usr/local/lib/python3.10/dist-packages (from nltk->sentence_transformers) (1.3.2)\n",
            "Requirement already satisfied: threadpoolctl>=2.0.0 in /usr/local/lib/python3.10/dist-packages (from scikit-learn->sentence_transformers) (3.2.0)\n",
            "Collecting torch>=1.6.0 (from sentence_transformers)\n",
            "  Downloading torch-2.1.0-cp310-cp310-manylinux1_x86_64.whl (670.2 MB)\n",
            "\u001b[2K     \u001b[90m━━━━━━━━━━━━━━━━━━━━━━━━━━━━━━━━━━━━━━━━\u001b[0m \u001b[32m670.2/670.2 MB\u001b[0m \u001b[31m1.8 MB/s\u001b[0m eta \u001b[36m0:00:00\u001b[0m\n",
            "\u001b[?25hRequirement already satisfied: pillow!=8.3.*,>=5.3.0 in /usr/local/lib/python3.10/dist-packages (from torchvision->sentence_transformers) (9.4.0)\n",
            "Requirement already satisfied: MarkupSafe>=2.0 in /usr/local/lib/python3.10/dist-packages (from jinja2->torch>=1.6.0->sentence_transformers) (2.1.4)\n",
            "Requirement already satisfied: charset-normalizer<4,>=2 in /usr/local/lib/python3.10/dist-packages (from requests->huggingface-hub>=0.4.0->sentence_transformers) (3.3.2)\n",
            "Requirement already satisfied: idna<4,>=2.5 in /usr/local/lib/python3.10/dist-packages (from requests->huggingface-hub>=0.4.0->sentence_transformers) (3.6)\n",
            "Requirement already satisfied: urllib3<3,>=1.21.1 in /usr/local/lib/python3.10/dist-packages (from requests->huggingface-hub>=0.4.0->sentence_transformers) (2.0.7)\n",
            "Requirement already satisfied: certifi>=2017.4.17 in /usr/local/lib/python3.10/dist-packages (from requests->huggingface-hub>=0.4.0->sentence_transformers) (2023.11.17)\n",
            "Requirement already satisfied: mpmath>=0.19 in /usr/local/lib/python3.10/dist-packages (from sympy->torch>=1.6.0->sentence_transformers) (1.3.0)\n",
            "Installing collected packages: torch\n",
            "  Attempting uninstall: torch\n",
            "    Found existing installation: torch 2.1.2\n",
            "    Uninstalling torch-2.1.2:\n",
            "      Successfully uninstalled torch-2.1.2\n",
            "Successfully installed torch-2.1.0\n",
            "Requirement already satisfied: pinecone-client in /usr/local/lib/python3.10/dist-packages (3.0.2)\n",
            "Requirement already satisfied: certifi>=2019.11.17 in /usr/local/lib/python3.10/dist-packages (from pinecone-client) (2023.11.17)\n",
            "Requirement already satisfied: tqdm>=4.64.1 in /usr/local/lib/python3.10/dist-packages (from pinecone-client) (4.66.1)\n",
            "Requirement already satisfied: typing-extensions>=3.7.4 in /usr/local/lib/python3.10/dist-packages (from pinecone-client) (4.9.0)\n",
            "Requirement already satisfied: urllib3>=1.26.0 in /usr/local/lib/python3.10/dist-packages (from pinecone-client) (2.0.7)\n",
            "Requirement already satisfied: llama-cpp-python in /usr/local/lib/python3.10/dist-packages (0.2.33)\n",
            "Requirement already satisfied: typing-extensions>=4.5.0 in /usr/local/lib/python3.10/dist-packages (from llama-cpp-python) (4.9.0)\n",
            "Requirement already satisfied: numpy>=1.20.0 in /usr/local/lib/python3.10/dist-packages (from llama-cpp-python) (1.23.5)\n",
            "Requirement already satisfied: diskcache>=5.6.1 in /usr/local/lib/python3.10/dist-packages (from llama-cpp-python) (5.6.3)\n",
            "Requirement already satisfied: jinja2>=2.11.3 in /usr/local/lib/python3.10/dist-packages (from llama-cpp-python) (3.1.3)\n",
            "Requirement already satisfied: MarkupSafe>=2.0 in /usr/local/lib/python3.10/dist-packages (from jinja2>=2.11.3->llama-cpp-python) (2.1.4)\n",
            "Requirement already satisfied: huggingface_hub in /usr/local/lib/python3.10/dist-packages (0.20.3)\n",
            "Requirement already satisfied: filelock in /usr/local/lib/python3.10/dist-packages (from huggingface_hub) (3.13.1)\n",
            "Requirement already satisfied: fsspec>=2023.5.0 in /usr/local/lib/python3.10/dist-packages (from huggingface_hub) (2023.6.0)\n",
            "Requirement already satisfied: requests in /usr/local/lib/python3.10/dist-packages (from huggingface_hub) (2.31.0)\n",
            "Requirement already satisfied: tqdm>=4.42.1 in /usr/local/lib/python3.10/dist-packages (from huggingface_hub) (4.66.1)\n",
            "Requirement already satisfied: pyyaml>=5.1 in /usr/local/lib/python3.10/dist-packages (from huggingface_hub) (6.0.1)\n",
            "Requirement already satisfied: typing-extensions>=3.7.4.3 in /usr/local/lib/python3.10/dist-packages (from huggingface_hub) (4.9.0)\n",
            "Requirement already satisfied: packaging>=20.9 in /usr/local/lib/python3.10/dist-packages (from huggingface_hub) (23.2)\n",
            "Requirement already satisfied: charset-normalizer<4,>=2 in /usr/local/lib/python3.10/dist-packages (from requests->huggingface_hub) (3.3.2)\n",
            "Requirement already satisfied: idna<4,>=2.5 in /usr/local/lib/python3.10/dist-packages (from requests->huggingface_hub) (3.6)\n",
            "Requirement already satisfied: urllib3<3,>=1.21.1 in /usr/local/lib/python3.10/dist-packages (from requests->huggingface_hub) (2.0.7)\n",
            "Requirement already satisfied: certifi>=2017.4.17 in /usr/local/lib/python3.10/dist-packages (from requests->huggingface_hub) (2023.11.17)\n"
          ]
        }
      ],
      "source": [
        "\n",
        "!pip install langchain\n",
        "!pip install pypdf\n",
        "!pip install unstructured\n",
        "!pip install sentence_transformers\n",
        "!pip install pinecone-client\n",
        "!pip install llama-cpp-python\n",
        "!pip install huggingface_hub\n"
      ]
    },
    {
      "cell_type": "code",
      "source": [
        "from langchain.document_loaders import PyPDFLoader, OnlinePDFLoader\n",
        "from langchain.text_splitter import RecursiveCharacterTextSplitter\n",
        "from langchain.embeddings import HuggingFaceEmbeddings\n",
        "from langchain.vectorstores import Pinecone\n",
        "from sentence_transformers import SentenceTransformer\n",
        "from langchain.chains.question_answering import load_qa_chain\n",
        "import pinecone\n",
        "import os"
      ],
      "metadata": {
        "id": "zquzbZHcvYEG"
      },
      "execution_count": 2,
      "outputs": []
    },
    {
      "cell_type": "code",
      "source": [
        "!gdown \"https://drive.google.com/uc?id=15hUEJQViQDxu_fnJeO_Og1hGqykCmJut&confirm=t\"\n"
      ],
      "metadata": {
        "colab": {
          "base_uri": "https://localhost:8080/"
        },
        "id": "ulbt_ePUwNTf",
        "outputId": "59c7ffdd-75c7-49d2-9df0-699a3a0f28d4"
      },
      "execution_count": 3,
      "outputs": [
        {
          "output_type": "stream",
          "name": "stdout",
          "text": [
            "Downloading...\n",
            "From: https://drive.google.com/uc?id=15hUEJQViQDxu_fnJeO_Og1hGqykCmJut&confirm=t\n",
            "To: /content/The-Field-Guide-to-Data-Science.pdf\n",
            "\r  0% 0.00/30.3M [00:00<?, ?B/s]\r 71% 21.5M/30.3M [00:00<00:00, 207MB/s]\r100% 30.3M/30.3M [00:00<00:00, 211MB/s]\n"
          ]
        }
      ]
    },
    {
      "cell_type": "code",
      "source": [
        "loader = PyPDFLoader(\"/content/PDFBIO.EL28.pdf\")"
      ],
      "metadata": {
        "id": "vVTuso1HwT6Z"
      },
      "execution_count": 4,
      "outputs": []
    },
    {
      "cell_type": "code",
      "source": [],
      "metadata": {
        "id": "Mu2ZqE7Jc6N6"
      },
      "execution_count": 4,
      "outputs": []
    },
    {
      "cell_type": "code",
      "source": [
        "data = loader.load()\n"
      ],
      "metadata": {
        "id": "nUscgs6XzuWA"
      },
      "execution_count": 5,
      "outputs": []
    },
    {
      "cell_type": "code",
      "source": [
        "data"
      ],
      "metadata": {
        "colab": {
          "base_uri": "https://localhost:8080/"
        },
        "id": "HSIHCC6izx7l",
        "outputId": "b39b1f57-c15d-4f2d-aedc-1754b413ea6a"
      },
      "execution_count": 6,
      "outputs": [
        {
          "output_type": "execute_result",
          "data": {
            "text/plain": [
              "[Document(page_content='BIOLOGY\\nMODULE - 4 Some Common Human Diseases\\nEnvironment and Health\\n 236Notes\\nIn the previous lesson you have read about the diseases due to nutritional\\ndeficiencies. In this lesson, you will learn about diseases caused due to other\\nreasons.\\nOBJECTIVES\\nAfter completing this lesson, you will be able to :\\nldefine a disease and learn its types;\\nldifferentiate between parasite and pathogen;\\nldifferentiate between infection and infestation;\\nllist the symptoms, causative agents, prevention and control of influenza,\\nmeasles, polio, hepatitis, tuberculosis, diphtheria, leprosy, malaria, filariasis\\nand dengue.\\nlidentify certain diseases that are caused due to improper functioning of some\\norgans of the body system;\\nldescribe the causes, symptoms and prevention and cure for hypertension;\\nllist the symptoms of and methods for diagnosing coronary heart disease and\\nsuggest preventive measures;\\nldescribe the cause, the symptoms, preventive and curative methods of diabetes\\nmellitus and osteoporosis;\\nlrecognize cancer as a cell-regulation disorder;\\nldefine and differentiate between benign and malignant tumors;\\nlinterpret the category of allergies as immune system related disorders;\\nldefine the special category of sexually transmitted diseases;28\\nSOME COMMON HUMAN DISEASESPlease purchase PDFcamp Printer on http://www.verypdf.com/ to remove this watermark.', metadata={'source': '/content/PDFBIO.EL28.pdf', 'page': 0}),\n",
              " Document(page_content='MODULE - 4\\nEnvironment and Health\\n 237Some Common Human Diseases\\nBIOLOGYNotes\\nllist the causative agents, symptoms, prevention and control of syphilis,\\ngonorrhea and AIDS;\\nldefine drug abuse and its prevention.\\n28.1 DISEASES\\n28.1 What is a disease?\\nAny condition which interferes with the normal functioning of the body is called\\na disease. In other words, disease may be defined as a disorder in the physical,\\nphysiological, psychological or social state of a person caused due to nutritional\\ndeficiency, physiological disorder, genetic disorder, pathogen or any other reason.\\n28.1.1 Types of Diseases\\nThe diseases may be classified into two broad categories (Table 28.1).\\nTable 28.1 Classification of human diseases\\nDiseases\\nCongenital diseases Acquired diseases\\n(Present since birth) (Develop after birth)\\nCommunicable diseases Non-communicable diseases\\n(Spread from infected person (do not spread from one person\\nto healthy person to another)\\nDegenerative Deficiency Allergies Cancer Other diseases\\ndiseases diseases (caused due to(caused due to (caused due to\\n(caused due to(caused due to hypersensitivityuncontrolled various physical\\nmalfunctioninglack of nutrientsof the body togrowth of cells/agents or any\\nof vital body in diet) certain foreigntissues) other reason)\\norgan) substances)\\nA.Congenital disease : The disease which is present from birth (e.g. hole in the\\nheart in infants). They are caused by some genetic abnormality or metabolic\\ndisorder or malfunctioning of an organ.\\nB.Acquired disease : The disease which may occur after birth during one’s\\nlifetime.\\nAcquired diseases may generally be classified into :\\n(i)Infectious diseases : The diseases which can be transmitted from person to\\nperson e.g. measles.\\n(ii)Degenerative diseases : The diseases caused by the malfunction of some vital\\norgans of the body e.g. heart failure.Please purchase PDFcamp Printer on http://www.verypdf.com/ to remove this watermark.', metadata={'source': '/content/PDFBIO.EL28.pdf', 'page': 1}),\n",
              " Document(page_content='BIOLOGY\\nMODULE - 4 Some Common Human Diseases\\nEnvironment and Health\\n 238Notes\\n(iii)Deficiency diseases : These are caused due to nutritional deficiency such as\\nthat of minerals or vitamins in the diet e.g. anaemia (Fe, Beri- beri (vitamin\\nB). You have read about such diseases in an earlier lesson 27.\\n(iv)Cancer : This is an abnormal, uncontrolled and unwanted growth of cells. e.g.\\nbreast cancer.\\nAcquired diseases are studied under two categories (Table 28.2).\\n(i)Communicable diseases : The diseases which can be transmitted from\\nan infected person to a healthy person.\\n(ii)Non-communicable diseases : These diseases do not spread from an\\naffected person to a healthy person.\\nTable 28.2 Differences between communicable and\\nnon-communicable diseases\\nCommunicable diseases Non-communicable diseases\\n1.Caused by some biological agents or\\npathogens, such as viruses, bacteria,\\nprotozoans, helminths (worms) etc.\\n2.Spread from one person to another\\nthrough contact, water, air, food, etc.\\n3.The concern of society as these are\\nrelated to community health.\\n28.1.2 Modes of Spread of Communicable  Diseases\\nCommunicable diseases spread from the infected person to a healthy person in the\\nfollowing ways.\\nDirect transmission\\nThe pathogens of diseases infect a healthy person directly without an intermediate\\nagent. It can take place by various means such as,\\n(i)Direct contact between the infected person and the healthy person:\\nDiseases like small pox, chicken pox, syphilis, gonorrhoea spread through\\ndirect contact.\\n(ii)Droplet infection : The infected person throws out tiny droplets of mucus by\\ncoughing, sneezing or spitting. These droplets may contain the pathogen. By\\ninhaling the air containing the droplets, a healthy person may get the infection.\\nDiseases like common cold, pneumonia, influenza, measles, tuberculosis and\\nwhooping cough spread through droplet infection.Caused to some specific factor, such\\nas malfunctioning of some vital organ,\\ndeficiency of nutrients, etc.\\nDo not spread from one person to\\nanother by contact.\\nThe concern of the individual only.Please purchase PDFcamp Printer on http://www.verypdf.com/ to remove this watermark.', metadata={'source': '/content/PDFBIO.EL28.pdf', 'page': 2}),\n",
              " Document(page_content='MODULE - 4\\nEnvironment and Health\\n 239Some Common Human Diseases\\nBIOLOGYNotes\\n(iii)Contact with soil contaminated with disease-causing viruses, bacteria etc.\\n(iv)Animal bite : Viruses of rabies are introduced through the wound caused by\\nthe bite of rabid animals, especially dogs. The virus is present in the saliva\\nof the rabid animals.\\nIndirect transmission\\nThe pathogens of certain diseases reach the human body through some intermediate\\nagents. It can take place by various means, which are as follows :\\n(i)By vectors such as houseflies, mosquitoes, and cockroaches. Examples:\\nHouseflies carry the causative organisms of cholera on their legs and mouth\\nparts from the faeces and sputum of infected persons to food and drinks and\\ncontaminate them. When this contaminated food is taken by a healthy person,\\nhe gets the infection. Similarly, mosquitoes carry virus of dengue and malarial\\nparasite which causes malaria.\\n(ii)Air-borne : The pathogens may reach humans with air and dust. The epidemic\\ntyphus spreads by inhalation of dried faeces of infected fly.\\n(iii)Object borne (Fonite borne) : Many diseases are transmitted through the use\\nof contaminated articles, such as clothes, utensils, toys, door handles, taps,\\nsyringes and surgical instruments, etc.\\n(iv)Water borne : If potable water (drinking water) is contaminated with\\npathogens of diseases such as cholera, diarhhoea, hepatitis or jaundice, it\\nreaches a healthy person upon consuming such water.\\n28.2SOME IMPORTANT TERMS TO REMEMBER\\nPathogen : A living organism which causes a disease.\\nParasite : An organism which gets food and shelter from host.\\nHost : The living body on or inside which the disease-producing organism takes\\nshelter.\\nInfestation : A large number of parasitic organisms present on the surface of body\\nof the host or on the clothings.\\nVector : It is an organism which harbours a pathogen and may pass it on to another\\nperson to cause a disease (Mosquitoes harbour malarial parasite and transmits it\\nto humans).\\nCarrier : It is an organism which itself does not harbour the pathogen but physically\\ntransmits it to another person (Housefly is the carrier of cholera germs).\\nReservoir : An organism which harbours pathogen in large numbers and does not\\nsuffer itself.\\nEpidemic : Spreading of a disease among a large number of people in the same\\nplace for some time e.g. plague.\\nEndemic : A disease which is regularly found among a particular group of people\\ne.g. goitre.Please purchase PDFcamp Printer on http://www.verypdf.com/ to remove this watermark.', metadata={'source': '/content/PDFBIO.EL28.pdf', 'page': 3}),\n",
              " Document(page_content='BIOLOGY\\nMODULE - 4 Some Common Human Diseases\\nEnvironment and Health\\n 240Notes\\nPandemic : A disease which is found all over the world e.g. AIDS.\\nInterferon : Type of proteins produced by infected cells of the body when attacked\\nby a virus, which act to prevent the further development of the virus.\\nInoculation : Introduction of antigenic material inside the body to prevent suffering\\nfrom a disease.\\nVaccination : Injection of a weak strain of a specific bacterium (Vaccine) in order\\nto secure immunity against the corresponding disease. It is also called immunisation.\\nIncubation period : The period between entry of pathogen inside a healthy body\\nand appearance of the symptoms of the disease.\\nSymptoms : Specific expressions which appear on the deseased and help in the\\nidentification of the disease.\\nINTEXT QUESTIONS 28.1\\n1.Define the term disease. .........................................................................\\n2.Give appropriate terms for\\n(i)the kind of disease which is present from birth.. .......................\\n(ii)disease caused by malfunctioning of vital organs. ......................\\n3.Name any two communicable and any two non-communicable diseases in\\nhumans\\n..................................................................................................................\\n4.What does infestation mean?\\n..................................................................................................................\\n28.3 COMMUNICABLE DISEASES (INFECTIOUS DISEASES)\\nThe diseases which spread from one person to another through contaminated food,\\nwater or contact or through insecticides, animals etc. are called the communicable\\ndiseases. These are caused by different causative agents (pathogens).\\n28.3.1 Diseases caused by viruses\\n1. Chicken pox\\nPathogen : Chicken pox virus (varicella)\\nMode of transmission : By contact or through scabs\\nIncubation period :12-20 days\\nSymptoms\\n(i)Fever, headache and loss of appetite\\n(ii)Dark red-coloured rash on the back and chest which spreads on the whole\\nbody. Later, rashes change into vessicles.Please purchase PDFcamp Printer on http://www.verypdf.com/ to remove this watermark.', metadata={'source': '/content/PDFBIO.EL28.pdf', 'page': 4}),\n",
              " Document(page_content='MODULE - 4\\nEnvironment and Health\\n 241Some Common Human Diseases\\nBIOLOGYNotes\\n(iii)After few days these vessicles start drying up and scabs (crusts) are formed.\\n(v)These scabs start falling (infective stage)\\nPrevention and cure\\nThere is no vaccine against chicken pox as yet. But precautions must be taken as\\nfollows:\\n(i)The patient should be kept in isolation.\\n(ii)Clothings, utencils, etc. used by the patient should be sterilised.\\n(iii)Fallen scabs should be collected and burnt.\\nOne attack of chicken pox gives life long immunity to the person recovered from\\nthis disease.\\n2. Measles\\nPathogen : Virus (Rubeola)\\nMode of transmission : By air\\nIncubation period : 3-5 days\\nSymptoms\\n(i)Common cold\\n(ii)Appearance of small white patches in mouth and throat.\\n(iii) Appearance of rashes on the body.\\nPrevention and cure\\n(i)The patient should be kept in isolation.\\n(ii)Cleanliness should be maintained.\\n(iii)Antibiotics check only the secondary infections which can easily occur.\\n3. Poliomylitis\\nPathogen : Polio Virus\\nMode of transmissions : Virus enters inside the body through food or water.\\nIncubation period : 7-14 days\\nSymptoms\\n(i)The virus multiplies in intestinal cells and then reaches the brain through blood.\\n(ii)It damages brain and nerves and causes infantile paralysis.\\n(iii)Stiffness of neck, fever, loss of head support.\\nPrevention and Cure\\nPolio vaccine drop (oral polio vaccine, OPV) are given to children at certain\\nintervals.\\nPulse polio programme is organised in our country to give polio vaccine to\\nchildren.Please purchase PDFcamp Printer on http://www.verypdf.com/ to remove this watermark.', metadata={'source': '/content/PDFBIO.EL28.pdf', 'page': 5}),\n",
              " Document(page_content='BIOLOGY\\nMODULE - 4 Some Common Human Diseases\\nEnvironment and Health\\n 242Notes\\n4. Rabies (also called hydrophobia)\\nPathogen : Rabies virus\\nMode of Transmission : Bite by a rabid dog.\\nIncubation period : 10 days to 1-3 months depending upon the distance of bite\\nfrom Central Nervous System (CNS), that is the brain or spinal cord.\\nSymptoms\\n(i)Severe headache and high fever.\\n(ii)Painful contraction of muscles of throat and chest.\\n(iii)Choking and fear of water leading to death.\\nPrevention and Cure\\n(i)Compulsory immunisation of dogs.\\n(ii)Killing of rabid animals.\\n(iii)Anti-rabies injections or oral doses are given to the person bitten by a rabid\\nanimal.\\n5. Hepatitis\\nPathogen : Hepatitis B virus.\\nMode of Transmission : Mainly through contaminated water.\\nIncubation Period : Generally 15-160 days.\\nSymptoms\\n(i)Bodyache.\\n(ii)Loss of appetite and nausea.\\n(iii)Eyes and skin become yellowish, urine deep yellow in colour (due to bile\\npigments).\\n(iv)Enlarged liver.\\nPrevention and Cure\\n(i)Hepatitis B vaccine is now available in India.\\n(ii)Proper hygeine is to be observed.\\n(iii)Avoid taking fat rich substances.\\n6. Influenza\\nInfluenza, commonly known as ‘flu’ is an illness caused by viruses that infect the\\nrespiratory tract. Compared to common cold, influenza is a more severe illness.\\nCauses\\nInfluenza is caused by a virus which attacks our body’s cells, resulting in various\\neffects depending on the strain of the virus.Please purchase PDFcamp Printer on http://www.verypdf.com/ to remove this watermark.', metadata={'source': '/content/PDFBIO.EL28.pdf', 'page': 6}),\n",
              " Document(page_content='MODULE - 4\\nEnvironment and Health\\n 243Some Common Human Diseases\\nBIOLOGYNotes\\nThere are many strains of influenza virus. The virus mutates all the time and new\\nvariations (strains) arise. This constant changing enables the virus to evade the\\nimmune system of its host. Unfortunately immunity against one strain (which is\\nconferred by exposure or immunisation) does not protect against other strains. A\\nperson infected with influenza virus develops antibodies against that virus; as the\\nvirus changes, the antibodies against the virus do not recognize the changed virus,\\nand influenza can recur, caused by the changed or mutated virus.\\nSymptoms\\nTypical symptoms of influenza include:\\n(i)fever (Usually 100° F to 103° F in adults and often even higher in children).\\n(ii)respiratory tract infection symptoms such as,cough, sore throat, running\\nnose, headache, pain in the muscles, and extreme fatigue.\\nAlthough nausea and vomiting and diarrhoea can sometimes accompany Influenza\\ninfection, especially in children, gastrointestinal symptoms are rarely prominent.\\nMost people who get flu, recover completely in 1 to 2 weeks, but some people\\ndevelop serious and potentially life-threatening complications, such as pneumonia.\\nTreatment and Control\\n(i)Much of the illness and death caused by influenza can be prevented by annual\\ninfluenza vaccination. Influenza vaccine is specifically recommended for those\\nwho arc at high risk for complications with chronic diseases of the heart, lungs\\nor kidneys, diabetes, or severe forms of anemia.\\n(ii)The persons suffering from influenza should\\nldrink plenty of fluids\\nltake symptom relief with paracetamol, aspirin (not in children under the\\nage of 16) or ibuprofen etc. as recommended by the doctor.\\nlConsult doctor immediately for treatment.\\n7. Dengue\\nDengue is an acute fever caused by virus. It is of two types: (i) Dengue fever, (ii)\\nDengue hemorrhagic fever.\\nDengue fever is characterized by an onset of sudden high fever, severe headache,\\npain behind the eyes and in the muscles and joints.\\nDengue hemorrhagic fever is an acute infectious viral disease. It is an advanced\\nstage of dengue fever. It is characterized by fever during the initial phase and other\\nsymptoms like headache, pain in the eye, joint pain and muscle pain, followed by\\nsigns of bleeding, red tiny spots on the skin, and bleeding from nose and gums.\\nHow does Dengue spread?\\nDengue spreads through the bite of an infected Aedes aegypti mosquito. The\\ntransmission of the disease occurs when a mosquito bites an infected person and\\nsubsequently bites a healthy person. In doing so, it transmits blood containing thePlease purchase PDFcamp Printer on http://www.verypdf.com/ to remove this watermark.', metadata={'source': '/content/PDFBIO.EL28.pdf', 'page': 7}),\n",
              " Document(page_content='BIOLOGY\\nMODULE - 4 Some Common Human Diseases\\nEnvironment and Health\\n 244Notes\\nvirus to the healthy person and the person becomes infected with dengue. The first\\nsymptoms of the disease occur about 5 to 7 days after the infected bite.\\nAedes mosquito rests indoors, in closets and other dark places, and is active during\\nday time. Outside, it rests where it is cool and shaded. The female mosquito lays\\nher eggs in stagnant water containers such as coolers, tyres, empty buckets etc.,\\nin and around homes, and other areas in towns or villages. These eggs become adults\\nin about 10 days.\\nIncubation period\\nThe time between the bite of a mosquito carrying dengue virus and the start of\\nsymptoms averages 4 to 6 days, with a range of 3 to 14 days.\\nDiagnosis\\nDiagnosis is made through blood tests by scanning for antibodies against dengue\\nviruses. In addition the blood platelets counts also drastically reduce in the infected\\nperson.\\nSymptoms\\nSymptoms of Dengue fever\\n(i)Sudden onset of high fever, generally 104-105 °F (40 °C), which may last 4-\\n5 days.\\n(ii)Severe headache mostly in the forehead.\\n(iii)pain in the joints and muscles, body aches.\\n(iv)Pain behind the eyes which worsens with eye movement.\\n(v)Nausea or vomiting.\\nSymptoms of Dengue hemorrhagic fever\\nThese include symptoms similar to dengue fever, plus other symptoms such as:\\n(i)Severe and continuous pain in the abdomen.\\n(ii)Rashes on the skin.\\n(iii)Bleeding from the nose, mouth, or in the internal organs.\\n(iv)Frequent vomiting with or without blood.\\n(v)Black stools due to internal bleeding.\\n(vi)Excessive thirst (dry mouth).\\n(vii)Pale, cold skin, weakness.\\nPrevention\\nFollowing steps can be taken to prevent spread of dengue fever:\\n(i)Avoid water stagnation for more than 72 hours so that the mosquitoes do not\\nbreed there.\\n(ii)Prevent mosquito breeding in stored water bodies, like ponds, wells etc.Please purchase PDFcamp Printer on http://www.verypdf.com/ to remove this watermark.', metadata={'source': '/content/PDFBIO.EL28.pdf', 'page': 8}),\n",
              " Document(page_content='MODULE - 4\\nEnvironment and Health\\n 245Some Common Human Diseases\\nBIOLOGYNotes\\n(iii)Destroy discarded objects like old tyres, bottles, etc. as they collect and store\\nrain water.\\n(iv)Use mosquito repellents and wear long sleeved clothes to curtail exposure.\\n(v)Use mosquito nets, also during daytime.\\n(vi)Avoid outdoor activities during dawn or dusk when these mosquitoes are most\\nactive.\\n(vii)Patients suffering from dengue fever must be isolated for at least 5 days.\\n(viii)Report to the nearest health centre for any suspected case of Dengue fever.\\nTreatment for dengue and dengue hemorrhagic fever\\nThere is no specific treatment for dengue fever. Persons with dengue fever should\\nrest and drink plenty of fluids. Dengue hemorrhagic fever is treated by replacing\\nlost fluids. Some patients need blood transfusions to control bleeding.\\nINTEXT QUESTIONS 28.2\\n1.How does chicken pox spread?\\n..................................................................................................................\\n2.Mention the most obvious symptom of measles.\\n..................................................................................................................\\n3.Which organ system of the body is affected by the polio virus?\\n..................................................................................................................\\n4.Name the causative organism of hydrophobia.\\n..................................................................................................................\\n5.Which mosquito spread dengue?\\n..................................................................................................................\\n28.3.2 Diseases caused.by Bacteria\\n1. Tuberculosis\\nPathogen : A bacterium (Mycobacterium tuberculosis).\\nMode of Transmission : airborne-discharged through sputum, cough, sneeze, etc.\\nof the infected person.\\nIncubation period : 2-10 weeks during which the bacteria produce a toxin,\\ntuberculin.\\nSymptoms\\n(i)Persistent fever and coughing.\\n(ii)Chest pain and blood comes out with the sputum.\\n(iii)General weakness.Please purchase PDFcamp Printer on http://www.verypdf.com/ to remove this watermark.', metadata={'source': '/content/PDFBIO.EL28.pdf', 'page': 9}),\n",
              " Document(page_content='BIOLOGY\\nMODULE - 4 Some Common Human Diseases\\nEnvironment and Health\\n 246Notes\\nPrevention and Cure\\n(i)Isolation of patient to avoid spread of infection.\\n(ii)BCG vaccination is given to children as a preventive measure.\\n(iii)Living rooms should be airy, neat and with clean sorroundings.\\n(iv)Antibiotics be administered as treatment.\\n2. Typhoid\\nPathogen : A Bacillus rod-shaped bacterium (Salmonella typhi)\\nMode of transmission : Through contaminated food and water\\nIncubation period : About 1-3 weeks\\nSymptoms\\n(i)Continuous fever, headache, slow pulse rate.\\n(ii)Reddish rashes appear on the belly.\\n(iii)In extreme cases, ulcers may rupture resulting in death of the patient.\\nPrevention and Cure\\n(i)Anti-typhoid inoculation should be given.\\n(ii)Avoid taking exposed food and drinks.\\n(iii)Proper sanitation and cleanliness should be maintained.\\n(iv)Proper disposal of excreta of the patient.\\n(v)Antibiotics should be administered.\\n3. Cholera\\nIt often breaks out among crowded and areas with poor sanitary conditions.\\nPathogen : Comma shaped bacterium (Vibrio cholerae)\\nMode of transmission : Contaminated food and water. House - fly is the carrier.\\nIncubation period : 6 hours to 2-3 days.\\nSymptoms\\n(i)Acute diarrohoea, rice watery stool.\\n(ii)Muscular cramps.\\n(iii)Loss of minerals through urine.\\n(iv)Dehydration leads to death.\\nPrevention and cure\\n(i)Cholera vaccination should be given.\\n(ii)Electrolytes (Na, K, sugar, etc.) dissolved in water should be given to the\\npatient to check dehydration (In market it is available as ORS–oral rehydration\\nsolution).\\n(iii)Proper washing and cooking of food.Please purchase PDFcamp Printer on http://www.verypdf.com/ to remove this watermark.', metadata={'source': '/content/PDFBIO.EL28.pdf', 'page': 10}),\n",
              " Document(page_content='MODULE - 4\\nEnvironment and Health\\n 247Some Common Human Diseases\\nBIOLOGYNotes\\n(iv)Proper disposal of vomit and human excreta.\\n(v)Flies should not be allowed to sit on eatables and utensils.\\n4. Diphtheria\\nThis disease generally occurs in children of 1-5 years of age.\\nPathogen : Rod-shaped bacterium (Cornybacterium diphtherea)\\nMode of Transmission : Through air (droplet infection)\\nIncubation period : 2-4 days\\nSymptoms\\n(i)Slight fever, Sore throat and general indisposition.\\n(ii)Oozing semisolid material in the throat which develops into a tough membrane.\\nThe membrane may cause clogging (blocking) of air passage, resulting into\\ndeath.\\nPrevention and cure\\n(i)Immediate medical attention should be given.\\n(ii)Babies should be given DPT vaccine.\\n(iii)Sputum, oral and nasal discharges of the infected child should be disposed\\noff.\\n(iv)Antibiotics may be given under doctor’s supervision.\\n(v)Isolation of the infected child.\\n5. Leprosy\\nPathogen : A bacterium (Mycobacterium leprae)\\nMode of transmission : Prolonged contact with the infected person. Nasal\\nsecretions are the most likely infectious material for family contacts.\\nIncubation period : 1-5 years\\nSymptoms\\n(i)Affects skin.\\n(ii)Formation of nodules and ulcer.\\n(iii)Scabs and deformities of fingers and toes.\\n(iv)Infected areas lose sensation.\\nPrevention and Cure\\n(i)The children should be kept away from parents suffering from leprosy.\\n(ii)Some medicine may arrest the disease and prevent from spreading.Please purchase PDFcamp Printer on http://www.verypdf.com/ to remove this watermark.', metadata={'source': '/content/PDFBIO.EL28.pdf', 'page': 11}),\n",
              " Document(page_content='BIOLOGY\\nMODULE - 4 Some Common Human Diseases\\nEnvironment and Health\\n 248Notes\\nINTEXT QUESTIONS 28.3\\n1.Name the causative bacterium of (i) TB (ii) Typhoid (iii) Cholera.\\n..................................................................................................................\\n2.State the most obvious symptom of diphtheria.\\n..................................................................................................................\\n3.What is the mode of transmission of leprosy.\\n..................................................................................................................\\n28.3.3 Diseases caused by protozoans\\n1. Malaria\\nPathogen : Malarial parasite (different species of Plasmodium)\\nMode of transmission : By bite of female Anopheles mosquitoes\\nIncubation period : Approximately 12 days\\nSymptoms\\n(i)Headache, nausea and muscular pain.\\n(ii)Feeling of chilliness and shivering followed by fever which becomes normal\\nalong with sweating after some time.\\n(iii)The patient becomes weak and anaemic.\\n(iv)If not treated properly secondary complications may lead to death.\\nPrevention and cure\\n(i)Fitting of double door and windows (with “Jali” i.e. wire mesh) in the house\\nto prevent entry of mosquitoes.\\n(ii)Use of mosquito net and mosquito repellents.\\n(iii)No water should be allowed to collect in ditches or other open spaces to\\nprevent mosquito breeding.\\n(iv)Sprinkling of kerosene oil in ditches or other open spaces where water gets\\ncollected.\\n(v)Antimalarial drugs to be taken.\\n2. Amoebiasis (Amoebic dysentery)\\nPathogen : Entamoeba histolytica\\nMode of transmission : Contaminated food and waterPlease purchase PDFcamp Printer on http://www.verypdf.com/ to remove this watermark.', metadata={'source': '/content/PDFBIO.EL28.pdf', 'page': 12}),\n",
              " Document(page_content='MODULE - 4\\nEnvironment and Health\\n 249Some Common Human Diseases\\nBIOLOGYNotes\\nSymptoms\\n(i)Formation of ulcers in intestine.\\n(ii)Feeling of abdominal pain and nausea.\\n(iii)Acute diarrhoea and mucus in stool.\\nPrevention and cure\\n(i)Proper sanitation should be maintained.\\n(ii)Vegetables and fruits must be properly washed before eating.\\n(iii)Antibiotics may be given to the patients.\\n28.3.4 Diseases caused by worms (helminths)\\n1. Filariasis\\nPathogen : Filarial worm (Wuchereria bancrofti)\\nMode of transmission : Bites of mosquitoes - Aedes and Culex.\\nSymptoms\\n(i)Fever\\n(ii)Collection of endothellial cells and metabolites in the wall of lymph vessels.\\n(iii)Swelling takes place in certain parts of the body like legs, breasts, scrotum,\\netc.\\n(iv)Swelling of legs which appear as legs of elephant, so this disease is also called\\nelephantiasis (Fig. 28.1)\\nFig. 28.1 Patient suffering from Elephantiasis.\\nPrevention and cure\\n(i)Mesh doors and windows in the house to check the entry of mosquitoes.\\n(ii)The water collected in tanks or other articles should be properly covered.\\nPlease purchase PDFcamp Printer on http://www.verypdf.com/ to remove this watermark.', metadata={'source': '/content/PDFBIO.EL28.pdf', 'page': 13}),\n",
              " Document(page_content='BIOLOGY\\nMODULE - 4 Some Common Human Diseases\\nEnvironment and Health\\n 250Notes\\n(iii)Sprinkling of kerosene in ditches, etc.\\n(iv)Drugs may be administered.\\nINTEXT QUESTIONS 28.4\\n1.Which mosquito carries stages of life history of the malarial parasite?\\n..................................................................................................................\\n2.Which protozoan causes amoebic dysentery?\\n..................................................................................................................\\n3.Name the disease cause by Wuchereria bancrofh.\\n..................................................................................................................\\n28.4 NON-COMMUNICABLE DISEASES\\n1. Diabetes mellitus\\nThe disease can be diagnosed by blood test or urine test.\\nCauses\\n(i)Less secretion of insulin hormone from the pancreas.\\n(ii)Mental stress\\n(iii)Through heredity from parents to children.\\nSymptoms\\n(i)More glucose in blood.\\n(ii)Excessive and frequent passing of urine.\\n(iii)Feeling thirsty and hungry frequently.\\n(iv)Reduced healing capacity of injury.\\n(v)General weakness of the body.\\n(vi)In extreme cases diabetic coma can take place making the patient unconscious.\\nPrevention and cure\\n(i)Control the excessive weight of the body.\\n(ii)A regulated and controlled diet is to be taken.\\n(iii)The food should not contain sugar and much carbohydrates.\\n(iv)Injection of insulin before meals, if required (only on doctor’s prescription).\\n2. Cardio vascular diseases\\nCommon Causes\\n(i)Deposition of cholesterol (a kind of fat) in the walls of coronary arteries which\\nrestrict the flow of blood to the heart muscles. This leads to heart attack.Please purchase PDFcamp Printer on http://www.verypdf.com/ to remove this watermark.', metadata={'source': '/content/PDFBIO.EL28.pdf', 'page': 14}),\n",
              " Document(page_content='MODULE - 4\\nEnvironment and Health\\n 251Some Common Human Diseases\\nBIOLOGYNotes\\n(ii)Due to reduced blood supply, oxygen available to the muscles, heart’s\\nefficiency is affected.\\n(iii)Due to stress and strain.\\n(iv)Obesity (over weight).\\n(a) Hypertension : (high blood pressure)\\nSymptoms\\n(i)Persistent high blood pressure (BP)\\n(ii)It may damage the arteries of kidney.\\n(iii)In extreme cases the arteries may burst or blindness may be caused.\\n(iv)It may also cause paralysis.\\nPrevention and Cure\\n(i)Do not build up mental tension.\\n(ii)Low fat diet should be taken.\\n(iii)Weight of the body must be kept under control.\\n(iv)Good eating habits should be cultivated\\n(v)Medicines may be taken as per doctor’s advise.\\n(b) Coronary heart disease\\nSymptoms\\n(i)Severe pain in the chest gasping for breathe.\\n(ii)Intense nausea and vomiting.\\n(iii)Lot of sweating takes place.\\n(iv)Blood clot may be formed within the blood vessels.\\nPrevention and Cure\\n(i)A diet low in saturated fats may control the formation of cholesterol.\\n(ii)Sound eating habits should be developed.\\n(iii)Over weight should be checked.\\n(iv)Avoid smoking, alcoholic drinks and drugs.\\n(v)Take treatment under a qualified doctor.\\n(vi)Electrocardiogram (ECG) can diagnose the disease.\\n(vii)By-pass surgery is performed in extreme cases.\\n3. Osteoporosis\\nOsteoporosis is an age dependent disorder with loss of the normal density of bone.\\nThe bones become fragile and are easily fractured. Bones that are affected by\\nosteoporosis can fracture with only a minor fall or injury. Elderly men and women\\nare most susceptible because of hormonal changes which occur with advancing age.Please purchase PDFcamp Printer on http://www.verypdf.com/ to remove this watermark.', metadata={'source': '/content/PDFBIO.EL28.pdf', 'page': 15}),\n",
              " Document(page_content='BIOLOGY\\nMODULE - 4 Some Common Human Diseases\\nEnvironment and Health\\n 252Notes\\nSymptoms\\n(i)The persons suffering from osteoporosis may not know about their condition\\nfor a long time, because osteoporosis doesn’t cause clear cut symptoms and\\none may not realise till a bone fracture.\\n(ii)The symptoms of osteoporosis are related to the location of the fractures.\\n(iii)Fractures of the spine can cause severe ‘band like’ pain that radiates around\\nfrom the back to the side of the body. Repeated spine fractures can cause\\nchronic lower back pain, as well as curving of the spine, which gives the\\nindividual a hunched-back appearance.\\n(iv)Some patients with osteoporosis develop stress fractures of the feet while\\nwalking or stepping off. Hip fractures typically occur as a result of a fall. With\\nosteoporosis, hip fractures can occur upon even minor accidents. Hip fractures\\nmay take a very long time to heal because of poor bone quality.\\nTreatment\\n(i)Patients suffering from osteoporosis are generally treated with vitamin D and\\ncalcium supplements. In addition they are advised bed rest so that the\\ncondition does not worsen.\\n(ii)Changes to lifestyle and diet are also recommended. The patients are advised\\nto take calcium either via dietary means or via supplements in the form of\\ntablets. Since body absorbs about 500 mg calcium at a given time, the calcium\\nintake should be spread throughout the day.\\n(iii)Exercise also helps to protect persons from the risk of getting osteoporosis.\\nHowever, it is important to do exercises for osteoporosis under the guidance\\nof a professional physiotherapist.\\n4. Cancer\\n1t is the uncontrolled and unwanted growth of cells.\\nCause\\n(i)No definite cause has been arrived at so far. However, it is found that body\\nhas proto-oncogenes. These are activated by some substances or stimulus,\\nwhich convert these into active cancer-causing oncogenes.\\n(ii)Heavy smoking and alcoholism.\\n(iii)Chewing of tobacco.\\n(iv)Consistent irritation of skin or repeated injury at the same point.\\nCancer is a kind of tumorous growth. Tumours can be classified into two categories:\\n(a) Benign tumour\\nIt remains confined to the place of origin and does not spread to other body parts.\\nIt is relatively harmless.Please purchase PDFcamp Printer on http://www.verypdf.com/ to remove this watermark.', metadata={'source': '/content/PDFBIO.EL28.pdf', 'page': 16}),\n",
              " Document(page_content='MODULE - 4\\nEnvironment and Health\\n 253Some Common Human Diseases\\nBIOLOGYNotes\\n(b) Malignant tumour\\nIt spreads to other parts of the body and growth is rapid. This is serious and may\\ncause death of the patient.\\nSymptoms\\n(i)Persistent lump or thickening in tissues, specially in tongue, breast and uterus.\\n(ii)Any irregular bleeding or blood-tinged discharge from any body opening.\\n(iii)Any sore that does not heal quickly.\\n(iv)Change in the form of mole or wart.\\n(v)Persistent hoarseness in voice, cough or difficulty in swallowing.\\nPrevention and cure\\n(i)Cancer check up should be done once a year.\\n(ii)Treatment should be taken under medical advice.\\n(iii)Avoid smoking, taking alcohol and chewing of tobacco.\\n(iv)Observe regularity in life style to keep body healthy.\\n5. Allergy\\n(i)Includes a group of non-infectious diseases.\\n(ii)No definite cause is known\\n(iii)It is believed that they occur due to hypersensitiviness of certain individuals\\nto foreign matter (allergens) which may enter inside the body.\\n(iv)Symptoms may be sneezing, gasping, running of eyes, irritation of throat or\\ntrachea, etc.\\n(v)Allergens may be pollen grains, feathers, some animals or insects, drugs,\\nmedicines, odour etc.\\nINTEXT QUESTIONS 28.5\\n1.Why is diabetes called a hereditary disease?\\n..................................................................................................................\\n2.What happens to the blood pressure in persons with hpertension?\\n..................................................................................................................\\n3.State one point of difference between malignant and benign tumour.\\n..................................................................................................................\\n28.5 SEXUALLY TRANSMITTED DISEASES\\nThe diseases that are transmitted through sexual contact are known as sexually\\ntransmitted diseases. Sexually transmitted diseases are those infections that are\\ntransmitted via the mucous membrane and secretions of the sexual organ, throat and\\nthe rectum. Syphilis, gonorrhoea, AIDS, etc. are some sexually transmitted diseases.Please purchase PDFcamp Printer on http://www.verypdf.com/ to remove this watermark.', metadata={'source': '/content/PDFBIO.EL28.pdf', 'page': 17}),\n",
              " Document(page_content='BIOLOGY\\nMODULE - 4 Some Common Human Diseases\\nEnvironment and Health\\n 254Notes\\n28.5.1 AIDS (Acquired Immuno Deficiency Syndrome)\\nIt is a pandemic disease. The word “immuno deficiency” signifies that the immune\\nsystem becomes very weak. It is a disorder of cell-mediated immune system of the\\nbody.\\nLymphocytes are the main cells of the immune system i.e. T-lymphocytes and\\nB-lymphocytes. ‘Helper T’ lymphocytes play a great role in regulating the immune\\nsystem. Damages to or destruction of ‘Helper’ lymphocytes lead to the development\\nof a cellular immune deficiency which makes the patient susceptible to wide variety\\nof infections.\\nFig. 28.2 Human Immunodificiency Virus (HIV)\\nMode of transmission : AIDS may be transmitted through any of the following\\nmeans :\\n(i)Sexual contact with the affected person. In India, the most common route of\\nHIV transmission is through unprotected heterosexual sex.\\n(ii)Using the same syringe as that of affected person.\\n(iii)Blood transfusion which contains human immuno deficiency virus.\\n(iv)Organ transplantation of the affected person.\\n(v)Artificial insemination.\\n(vi)From mother to new born baby during the process of giving birth.\\nIncubation period : The average period is 28 months though it may range between\\n15 to 57 months\\nSymptoms : The sufferer may show one or more of the following symptoms :\\n(i)A type of lung disease develops (tuberculosis).\\n(ii)A skin cancer may be observed.\\n(iii)Nerves are effected.\\n(iv)Brain is badly damaged with the loss of memory, ability to speak and to think.\\nPlease purchase PDFcamp Printer on http://www.verypdf.com/ to remove this watermark.', metadata={'source': '/content/PDFBIO.EL28.pdf', 'page': 18}),\n",
              " Document(page_content='MODULE - 4\\nEnvironment and Health\\n 255Some Common Human Diseases\\nBIOLOGYNotes\\n(v)The number of platelets (thrombocytes) become less which may cause\\nhaemorrhage.\\n(vi)In severe cases the patient shows swollen lymph nodes, fever and loss of weight.\\nA full blown (disease at its peak ) AIDS patient, may die within three years.\\nPrevention and cure\\nNo medicine or vaccine is known to be available against HIV infection. Therefore,\\ncare has to be taken through following measures:\\n(i)There should not be any sexual contact with the person who has HIV infection\\nor STI. Since STI causes some damage to the gemital area and mucous layer,\\nand thus facilitates the entry of HIV into the body.\\n(ii)Use disposable syringe and needle.\\n(iii)The blood to be transfused to the needy person, should be free from HIV germ.\\n(iv)Prostitution and homosexuality should be avoided.\\n(v)Condom should always be used during intercourse.\\nControl\\nAIDS can be detected by ELISA test.\\nThere are three points which may be important to control STD.\\n(i)Partner notification : Identification of potential infected contact, examination\\nand treatment.\\n(ii)Education of STD : This should be a part of general education.\\n(iii)Screening for STD : Serological screening of groups, such as, blood donors,\\nwomen before giving birth.\\nFacts about HIV transmission\\nlHIV is a weak virus and hard to get infected with. It cannot be transmitted\\nthrough air or water outside the human body.\\nlA person cannot get AIDS by hugging or sneezing of an infected person, insect\\nbites (including mosquito), sharing the same comb, plates, glass, handkerchiefs,\\nknives or cutlery.\\nlA person cannot get AIDS by using public toilets, swimming pools, showers\\nand telephones.\\nlHIV does not transmit by being near to someone, touching someone or working\\nwith someone who is suffering from AIDS.\\nINTEXT QUESTIONS 28.6\\n1. How is HIV transmitted? Mention any three ways of infection.\\n............................................................................................................................Please purchase PDFcamp Printer on http://www.verypdf.com/ to remove this watermark.', metadata={'source': '/content/PDFBIO.EL28.pdf', 'page': 19}),\n",
              " Document(page_content='BIOLOGY\\nMODULE - 4 Some Common Human Diseases\\nEnvironment and Health\\n 256Notes\\n2.Mention any two methods to prevent AIDS.\\n............................................................................................................................\\n3.Write full form of HIV.\\n............................................................................................................................\\n4.Give any two symptoms of AIDS.\\n............................................................................................................................\\n5.Mention three general points the knowledge of which may control STD.\\n............................................................................................................................\\n28.5.2 Syphilis\\nCausative organism\\nTreponema pallidum (a long corkscrew bacteria)\\nMode of spread\\nSexual contact with the infected person\\nIncubation period\\nSymptoms of the disease occur in about 10-90 days after contraction, but generally\\nnoticed in 3-4 weeks after getting infected with the bacteria.\\nSymptoms\\nSymptoms of syphilis occur in stages. The common symptoms of syphilis include.\\n(i)Fever, and sores on the skin, in the throat and urinogenital areas especially\\nvagina or penis, anus, rectum and mouth. Sores are firm, round and often\\npainless.\\n(ii)Rashes on hands, feet and palms.\\n(iii)White patches in the mouth.\\n(iv)Acne-like warts in the groin area.\\n(v)Hair fall in patches from infected areas.\\n(vi)The last three symptoms can be very serious. They often become internal and\\naffect organs like brain, nerves, liver, eyes, blood vessels, bones and joints,\\nwhich show up after about 10 years of getting the infection. It can lead to\\nparalysis, blindness, dementia and sterility.\\nPrevention and cure\\n(i)Having sexual intimacy with only one person.\\n(ii)Avoiding prostitution and homosexuality.\\n(iii)Practicing abstinence, and use condoms.\\n(iv)Taking appropriate medical treatment, and maintaing personal hygience.Please purchase PDFcamp Printer on http://www.verypdf.com/ to remove this watermark.', metadata={'source': '/content/PDFBIO.EL28.pdf', 'page': 20}),\n",
              " Document(page_content='MODULE - 4\\nEnvironment and Health\\n 257Some Common Human Diseases\\nBIOLOGYNotes\\n28.5.3 Gonorrhoea\\nGonorrhoea is a sexually transmitted disease that often involves urethra, vagina or\\npenis, cervix, anus, and throat, as its target sites.\\nCausative organism\\nA gonococcus bacteria, Neisseria gonorrhoeae. It grows and multiplies quickly in\\nwarm moist areas of the body, such as the cervix, rectum and mouth.\\nModes of spread\\nHaving multiple sex partners increases the risk of contracting it. Any kind of\\nunprotected sex is always a risk. Any kind of contact of sores with an infected\\nperson is also risky.\\nIncubation period\\nAbout 2-5 days after getting infection.\\nSymptoms\\n(i)Inflammation of mucous membrane in the urinogenital tract.\\n(ii)Burning sensation while passing out urine and urithral discharge.\\n(iii)Rectal discomfort.\\n(iv)Pain in the joints.\\n(v)Rashes on palms, Mild sore throat\\n(vi)In females, it may cause sterility\\nPrevention and cure\\n(i)Having sexual contact with only one person.\\n(ii)Avoiding prostitution and homosexuality.\\n(iii)Taking antibiotics, such as penicillin injection or appropriate medicines at the\\nappropriate time as per Doctor’s advice.\\nIn males, gonorrhoea primarily affects the urethra. anus, throat, joints and eyes.\\nMost victims of this disease are teenagers and young adults. One of the advanced\\ncomplications of gonorrhoea is gonococcal septicemia (blood poisoning).\\n28.6 DRUG ABUSE AND ITS PREVENTION\\nWhat is a drug\\nA drug is a chemical substance that changes the way our body and mind work. When\\npharmaceutical preparation or a naturally occurring substance is used primarily to\\nalter the physical or mental functioning of an individual, it is called a drug.\\nWhat is drug abuse\\nWhen drugs are taken for medical reasons to treat or cure disease both physical\\nand mental, they are called medications or therapeutic drugs.\\nDrug abuse occurs when drugs are taken without medical reasons and without\\nmedical supervision, especially when they are taken in an amount, strength,\\nfrequency, or manner that damages the physical and mental functioning of the\\nindividual. Cough syrups, pain killers, and tranquillizers are some common\\nmedicines that are often abused.Please purchase PDFcamp Printer on http://www.verypdf.com/ to remove this watermark.', metadata={'source': '/content/PDFBIO.EL28.pdf', 'page': 21}),\n",
              " Document(page_content='BIOLOGY\\nMODULE - 4 Some Common Human Diseases\\nEnvironment and Health\\n 258Notes\\nDrug abuse also occurs when certain chemicals that have no medical use or benefits\\nare taken, such as sniffing glue and solvents. The extent of drug abuse depends\\non the quantity of the drug begin taken, and the method and frequency of its\\nconsumption. Drug abuse leads to many serious physical, emotional, and social\\nproblems.\\nWhat are the effects of drug abuse?\\nDrug abuse leads to a number of short-term and long-term effects that are\\ndetrimental to health:\\nlShort-term effects : These are the effects that appear instantly or a few minutes\\nafter the intake of drugs. The effects include a sense of well-being and a pleasant\\ndrowsiness.\\nlLong-term effects :  Constant and excessive use of drugs over a long period\\ncan cause both physical and mental damage and illness. This includes failure\\nin academic studies, employment, and interpersonal relationship; financial ruin;\\nincreased risk of contracting STIs; and increased risk of being involved in\\nvehicular accidents. Addicts stop thinking of everything in life except when and\\nhow they will get their next drug dose. They will do anything for the dose,\\nincluding committing crimes such as theft and in certain case even number.\\nSome Basic Facts\\nTeenagers sometimes try a smoke or drink just to see how it\\nfeels, but they do not start using drugs on a regular basis. What\\nis the harm in trying drugs just to see how it feels?\\nIdeally, there is no need to try out a smoke or drink.\\nBut there is a great difference between “ trying out” smoking  or\\ndrinking as compared to drugs.\\nSmoking and drinking once only or very occasionally does not\\nalways lead to addiction. But drugs are very powerful chemicals\\nthat can cause profound alterations in the metabolism of the  body\\nand in the chemistry of the brain. Even a single dose of a powerful\\ndrug can start the addiction process. When one’s mind and body\\nbecomes addicted to drugs, stopping drugs produces very unpleasant\\nand distressing mental and physical symptoms. This makes the\\naddict persist with the usage of the drug. Addicts cannot give up\\ntheir habit unless they get medical treatment and counselling.\\nYou should not boast about your strong will power and assume that\\nyou can experiment with drugs without becoming addicted. ALWAYS\\nKEEP AWAY from drugs. Do not allow yourself to succumb to\\npressure by friends and acquaintances. If you remain firm in your\\nresolve, you can prevent your life from being ruined.Please purchase PDFcamp Printer on http://www.verypdf.com/ to remove this watermark.', metadata={'source': '/content/PDFBIO.EL28.pdf', 'page': 22}),\n",
              " Document(page_content='MODULE - 4\\nEnvironment and Health\\n 259Some Common Human Diseases\\nBIOLOGYNotes\\nSome Basic Facts\\nWhat are Reproductive Tract Infections (RTIs)?\\nRTIs are infections of the upper and lower reproductive tracts of\\nboth sexes. Agents of infection include bacteria, viruses, and\\nprotozoa. Not all RTIs are sexually transmitted; some may occur\\ndue to an imbalance of the bacteria normally found in the reproductive\\ntract and poor personal hygiene.\\nSome Basic Facts\\nIs it possible for a person to have an STI and not know it?\\nSymptoms of STIs in men are visible, and hence they become aware\\nthat their sexual organs have been infected.\\nHowever, STIs in women can be asymptomatic. This means that\\nsigns or symptoms are not experienced even though the infection\\nis active. Hence women often do not know that they have an STI.\\nINTEXT QUESTIONS 28.7\\n1.Name the pathogen that causes syphilis.\\n..................................................................................................................\\n2.Mention any two symptoms of the disease gonorrhoea.\\n..................................................................................................................\\n3.Give the main method of checking syphilis.\\n..................................................................................................................\\nWHAT YOU HAVE LEARNT\\nlDiseases are broadly classified into two categories–Acquired (Occur after birth)\\nand congenital (present from birth).\\nlInfectious diseases are transmitted from person to person and degenerative\\ndiseases are due to malfunctioning of some organs.\\nlCancer is uncontrolled growth of cells.Please purchase PDFcamp Printer on http://www.verypdf.com/ to remove this watermark.', metadata={'source': '/content/PDFBIO.EL28.pdf', 'page': 23}),\n",
              " Document(page_content='BIOLOGY\\nMODULE - 4 Some Common Human Diseases\\nEnvironment and Health\\n 260Notes\\nlAcquired diseases are studied in two categories of communicable and non-\\ncommunicable diseases.\\nlCommunicable diseases are transmitted and may be caused by virus, bacteria,\\nprotozoa or helminths (worms).\\nlNon-communicable diseases are not transmitted from person to person.\\nldiseases which spread by sexual contact are called sexually transmitted diseases\\n(STD).\\nlAIDS is caused by HIV.\\nlGonorrhoea is caused by a bacterium (Neisseria gonorrhoeae). Syphilis is\\ncaused by a long, corkscrew bacterium (Treponema pallidum).\\nTERMINAL QUESTIONS\\n1.What is a disease? How does it differ from disorder?\\n2.Name the two categories of acquired diseases.\\n3.Explain the term (i) parasitism (ii) reservoir.\\n4.Give two symptoms of coronary diseases and of typhoid.\\n5.What precautions should be taken to prevent malaria?\\n6.Name the pathogen that causes diphtheria and cholera.\\n7.Mention the four types of acquired diseases.\\n8.Differentiate between :\\n(i)Communicable and non-communicable diseases\\n(ii)Pathogen and vector\\n(iii)Syphilis and gonorrhoea\\n(iv)HIV and AIDS\\n(v)Benign and malignant tumours\\n9.How does polio virus enter human body? How does it paralyse limbs?\\n10.A nursing mother is given an immunization for BCG and DPT to the baby.\\nWhat are the diseases against which she would be protected?\\n11.Give the cause, symptoms and treatment of haemorrhagic dengue fever.\\n12.Give full form of STD.\\n13.Mention any two sympotms of syphilis.\\n14.State the means which may prevent and cure gonorrhoea.\\n15.What does the term AIDS stand for?\\n16.Write four possible symptoms of AIDS.\\n17.Mention three general points which may control sexually transmitted diseases.Please purchase PDFcamp Printer on http://www.verypdf.com/ to remove this watermark.', metadata={'source': '/content/PDFBIO.EL28.pdf', 'page': 24}),\n",
              " Document(page_content='MODULE - 4\\nEnvironment and Health\\n 261Some Common Human Diseases\\nBIOLOGYNotes\\nANSWERS TO INTEXT QUESTIONS\\n28.11.Any condition which interfers with the normal functioning of the body.\\n2.(i) congenital (ii) degenerative\\n3.Refer text.\\n4.Presence of large number of organisms on the surface of body.\\n28.21.Contact or scabs\\n2.Appearance of rashes on the body\\n3.Nervous system\\n4.Rabies virus\\n5.Aedes aegypti\\n28.31.(i)Mycobacterium tuberculosis\\n(ii)Salmonella typhi\\n(iii)Vibrio cholerae\\n2.Oozing semisolid material in the throat, form a membrane which blocks\\nthe air passage.\\n3.Prolonged contact with patient.\\n28.41.Female Anopheles\\n2.Entamoeba histolytica\\n3.Elephantiasis or Filariasis\\n28.51.It is passed down from parents to offspring.\\n2.The blood pressure remains persistently high.\\n3.Benign does not spread to other parts of the body, whereas malignant\\ntumor cells spread to other parts of the body.\\n28.61.Any three points mentioned under “mode of transmission”\\n2.Give any two points written under “prevention and cure”.\\n3.Human immunodeficiency virus.\\n4.Mention any two points given under “symptoms.”\\n5.(i)Partner-notification.\\n(ii)Education of STD.\\n(iii)Screening for STD.\\n28.71.Treponema pallidum\\n2.(i)Swelling of mucous membrane of urinogenital tract.\\n(ii)Burning sensation during passing of urine.\\n3.(i)Prostitution and homosexuality should be avoided.\\n(ii)Certain medicines may check the diseases.Please purchase PDFcamp Printer on http://www.verypdf.com/ to remove this watermark.', metadata={'source': '/content/PDFBIO.EL28.pdf', 'page': 25})]"
            ]
          },
          "metadata": {},
          "execution_count": 6
        }
      ]
    },
    {
      "cell_type": "code",
      "source": [
        "text_splitter=RecursiveCharacterTextSplitter(chunk_size=500, chunk_overlap=0)\n"
      ],
      "metadata": {
        "id": "_dVEU9_Y0AeC"
      },
      "execution_count": 7,
      "outputs": []
    },
    {
      "cell_type": "code",
      "source": [
        "docs=text_splitter.split_documents(data)\n"
      ],
      "metadata": {
        "id": "pd1SCALT0I6_"
      },
      "execution_count": 8,
      "outputs": []
    },
    {
      "cell_type": "code",
      "source": [
        "\n",
        "len(docs)\n"
      ],
      "metadata": {
        "colab": {
          "base_uri": "https://localhost:8080/"
        },
        "id": "XIcYwTYq0Mam",
        "outputId": "ff4e948c-327b-4e4e-b791-2b60ce80f7d2"
      },
      "execution_count": 9,
      "outputs": [
        {
          "output_type": "execute_result",
          "data": {
            "text/plain": [
              "118"
            ]
          },
          "metadata": {},
          "execution_count": 9
        }
      ]
    },
    {
      "cell_type": "code",
      "source": [
        "docs[0]\n"
      ],
      "metadata": {
        "colab": {
          "base_uri": "https://localhost:8080/"
        },
        "id": "qKt6Ia5x0PCW",
        "outputId": "329eee27-1cc2-44de-fea4-527d164f3888"
      },
      "execution_count": 10,
      "outputs": [
        {
          "output_type": "execute_result",
          "data": {
            "text/plain": [
              "Document(page_content='BIOLOGY\\nMODULE - 4 Some Common Human Diseases\\nEnvironment and Health\\n 236Notes\\nIn the previous lesson you have read about the diseases due to nutritional\\ndeficiencies. In this lesson, you will learn about diseases caused due to other\\nreasons.\\nOBJECTIVES\\nAfter completing this lesson, you will be able to :\\nldefine a disease and learn its types;\\nldifferentiate between parasite and pathogen;\\nldifferentiate between infection and infestation;', metadata={'source': '/content/PDFBIO.EL28.pdf', 'page': 0})"
            ]
          },
          "metadata": {},
          "execution_count": 10
        }
      ]
    },
    {
      "cell_type": "code",
      "source": [
        "!pip install faiss-cpu"
      ],
      "metadata": {
        "colab": {
          "base_uri": "https://localhost:8080/"
        },
        "id": "D3KWu22vA7uA",
        "outputId": "4db4add2-28c7-4630-9d29-35bb7fe101b2"
      },
      "execution_count": 11,
      "outputs": [
        {
          "output_type": "stream",
          "name": "stdout",
          "text": [
            "Requirement already satisfied: faiss-cpu in /usr/local/lib/python3.10/dist-packages (1.7.4)\n"
          ]
        }
      ]
    },
    {
      "cell_type": "code",
      "source": [
        "import pickle\n",
        "import faiss\n",
        "from langchain.vectorstores import FAISS"
      ],
      "metadata": {
        "id": "2hhKhA6eA1k5"
      },
      "execution_count": 12,
      "outputs": []
    },
    {
      "cell_type": "code",
      "source": [
        "def store_embeddings(docs, embeddings, sotre_name, path):\n",
        "\n",
        "    vectorStore = FAISS.from_documents(docs, embeddings)\n",
        "\n",
        "    with open(f\"{path}/faiss_{sotre_name}.pkl\", \"wb\") as f:\n",
        "        pickle.dump(vectorStore, f)"
      ],
      "metadata": {
        "id": "KaBfHsLtBCFY"
      },
      "execution_count": 13,
      "outputs": []
    },
    {
      "cell_type": "code",
      "source": [
        "pip install InstructorEmbedding\n"
      ],
      "metadata": {
        "colab": {
          "base_uri": "https://localhost:8080/"
        },
        "id": "RXZ9s-I9BnWo",
        "outputId": "c0f52b0e-2b69-4ee7-a004-f39c9451cee3"
      },
      "execution_count": 14,
      "outputs": [
        {
          "output_type": "stream",
          "name": "stdout",
          "text": [
            "Requirement already satisfied: InstructorEmbedding in /usr/local/lib/python3.10/dist-packages (1.0.1)\n"
          ]
        }
      ]
    },
    {
      "cell_type": "code",
      "source": [
        "from langchain.embeddings import HuggingFaceInstructEmbeddings\n",
        "\n",
        "instructor_embeddings = HuggingFaceInstructEmbeddings(model_name=\"hkunlp/instructor-xl\",\n",
        "                                                      model_kwargs={\"device\": \"cuda\"})"
      ],
      "metadata": {
        "colab": {
          "base_uri": "https://localhost:8080/"
        },
        "id": "wCjqpprkBY0x",
        "outputId": "960dca2d-d03c-417e-835a-e96faa19ce80"
      },
      "execution_count": 15,
      "outputs": [
        {
          "output_type": "stream",
          "name": "stdout",
          "text": [
            "load INSTRUCTOR_Transformer\n",
            "max_seq_length  512\n"
          ]
        }
      ]
    },
    {
      "cell_type": "markdown",
      "source": [],
      "metadata": {
        "id": "Xup4YGClBYWn"
      }
    },
    {
      "cell_type": "code",
      "source": [
        "Embedding_store_path = f\"{data}/Embedding_store\""
      ],
      "metadata": {
        "id": "vShpi1EIB-Wb"
      },
      "execution_count": 16,
      "outputs": []
    },
    {
      "cell_type": "code",
      "source": [
        "# !pip install --upgrade torch\n",
        "# !pip install --upgrade faiss-gpu\n"
      ],
      "metadata": {
        "colab": {
          "base_uri": "https://localhost:8080/",
          "height": 758
        },
        "id": "aQGkZA1dD_eD",
        "outputId": "4e2d3769-4462-49e9-d54b-b78426d36da4"
      },
      "execution_count": 17,
      "outputs": [
        {
          "output_type": "stream",
          "name": "stdout",
          "text": [
            "Requirement already satisfied: torch in /usr/local/lib/python3.10/dist-packages (2.1.0)\n",
            "Collecting torch\n",
            "  Using cached torch-2.1.2-cp310-cp310-manylinux1_x86_64.whl (670.2 MB)\n",
            "Requirement already satisfied: filelock in /usr/local/lib/python3.10/dist-packages (from torch) (3.13.1)\n",
            "Requirement already satisfied: typing-extensions in /usr/local/lib/python3.10/dist-packages (from torch) (4.9.0)\n",
            "Requirement already satisfied: sympy in /usr/local/lib/python3.10/dist-packages (from torch) (1.12)\n",
            "Requirement already satisfied: networkx in /usr/local/lib/python3.10/dist-packages (from torch) (3.2.1)\n",
            "Requirement already satisfied: jinja2 in /usr/local/lib/python3.10/dist-packages (from torch) (3.1.3)\n",
            "Requirement already satisfied: fsspec in /usr/local/lib/python3.10/dist-packages (from torch) (2023.6.0)\n",
            "Requirement already satisfied: nvidia-cuda-nvrtc-cu12==12.1.105 in /usr/local/lib/python3.10/dist-packages (from torch) (12.1.105)\n",
            "Requirement already satisfied: nvidia-cuda-runtime-cu12==12.1.105 in /usr/local/lib/python3.10/dist-packages (from torch) (12.1.105)\n",
            "Requirement already satisfied: nvidia-cuda-cupti-cu12==12.1.105 in /usr/local/lib/python3.10/dist-packages (from torch) (12.1.105)\n",
            "Requirement already satisfied: nvidia-cudnn-cu12==8.9.2.26 in /usr/local/lib/python3.10/dist-packages (from torch) (8.9.2.26)\n",
            "Requirement already satisfied: nvidia-cublas-cu12==12.1.3.1 in /usr/local/lib/python3.10/dist-packages (from torch) (12.1.3.1)\n",
            "Requirement already satisfied: nvidia-cufft-cu12==11.0.2.54 in /usr/local/lib/python3.10/dist-packages (from torch) (11.0.2.54)\n",
            "Requirement already satisfied: nvidia-curand-cu12==10.3.2.106 in /usr/local/lib/python3.10/dist-packages (from torch) (10.3.2.106)\n",
            "Requirement already satisfied: nvidia-cusolver-cu12==11.4.5.107 in /usr/local/lib/python3.10/dist-packages (from torch) (11.4.5.107)\n",
            "Requirement already satisfied: nvidia-cusparse-cu12==12.1.0.106 in /usr/local/lib/python3.10/dist-packages (from torch) (12.1.0.106)\n",
            "Requirement already satisfied: nvidia-nccl-cu12==2.18.1 in /usr/local/lib/python3.10/dist-packages (from torch) (2.18.1)\n",
            "Requirement already satisfied: nvidia-nvtx-cu12==12.1.105 in /usr/local/lib/python3.10/dist-packages (from torch) (12.1.105)\n",
            "Requirement already satisfied: triton==2.1.0 in /usr/local/lib/python3.10/dist-packages (from torch) (2.1.0)\n",
            "Requirement already satisfied: nvidia-nvjitlink-cu12 in /usr/local/lib/python3.10/dist-packages (from nvidia-cusolver-cu12==11.4.5.107->torch) (12.3.101)\n",
            "Requirement already satisfied: MarkupSafe>=2.0 in /usr/local/lib/python3.10/dist-packages (from jinja2->torch) (2.1.4)\n",
            "Requirement already satisfied: mpmath>=0.19 in /usr/local/lib/python3.10/dist-packages (from sympy->torch) (1.3.0)\n",
            "Installing collected packages: torch\n",
            "  Attempting uninstall: torch\n",
            "    Found existing installation: torch 2.1.0\n",
            "    Uninstalling torch-2.1.0:\n",
            "      Successfully uninstalled torch-2.1.0\n",
            "\u001b[31mERROR: pip's dependency resolver does not currently take into account all the packages that are installed. This behaviour is the source of the following dependency conflicts.\n",
            "torchaudio 2.1.0+cu121 requires torch==2.1.0, but you have torch 2.1.2 which is incompatible.\n",
            "torchdata 0.7.0 requires torch==2.1.0, but you have torch 2.1.2 which is incompatible.\n",
            "torchtext 0.16.0 requires torch==2.1.0, but you have torch 2.1.2 which is incompatible.\n",
            "torchvision 0.16.0+cu121 requires torch==2.1.0, but you have torch 2.1.2 which is incompatible.\u001b[0m\u001b[31m\n",
            "\u001b[0mSuccessfully installed torch-2.1.2\n"
          ]
        },
        {
          "output_type": "display_data",
          "data": {
            "application/vnd.colab-display-data+json": {
              "pip_warning": {
                "packages": [
                  "torch",
                  "torchgen"
                ]
              }
            }
          },
          "metadata": {}
        },
        {
          "output_type": "stream",
          "name": "stdout",
          "text": [
            "Requirement already satisfied: faiss-gpu in /usr/local/lib/python3.10/dist-packages (1.7.2)\n"
          ]
        }
      ]
    },
    {
      "cell_type": "code",
      "source": [
        "db_instructEmbedd = FAISS.from_documents(docs, instructor_embeddings)"
      ],
      "metadata": {
        "colab": {
          "base_uri": "https://localhost:8080/",
          "height": 355
        },
        "id": "Pfrdu2_TuQG-",
        "outputId": "f5f29e3c-968a-4716-de98-e01e87b1bfca"
      },
      "execution_count": 18,
      "outputs": [
        {
          "output_type": "error",
          "ename": "RuntimeError",
          "evalue": "Found no NVIDIA driver on your system. Please check that you have an NVIDIA GPU and installed a driver from http://www.nvidia.com/Download/index.aspx",
          "traceback": [
            "\u001b[0;31m---------------------------------------------------------------------------\u001b[0m",
            "\u001b[0;31mRuntimeError\u001b[0m                              Traceback (most recent call last)",
            "\u001b[0;32m<ipython-input-18-9b3427dbd0c3>\u001b[0m in \u001b[0;36m<cell line: 1>\u001b[0;34m()\u001b[0m\n\u001b[0;32m----> 1\u001b[0;31m \u001b[0mdb_instructEmbedd\u001b[0m \u001b[0;34m=\u001b[0m \u001b[0mFAISS\u001b[0m\u001b[0;34m.\u001b[0m\u001b[0mfrom_documents\u001b[0m\u001b[0;34m(\u001b[0m\u001b[0mdocs\u001b[0m\u001b[0;34m,\u001b[0m \u001b[0minstructor_embeddings\u001b[0m\u001b[0;34m)\u001b[0m\u001b[0;34m\u001b[0m\u001b[0;34m\u001b[0m\u001b[0m\n\u001b[0m",
            "\u001b[0;32m/usr/local/lib/python3.10/dist-packages/langchain_core/vectorstores.py\u001b[0m in \u001b[0;36mfrom_documents\u001b[0;34m(cls, documents, embedding, **kwargs)\u001b[0m\n\u001b[1;32m    506\u001b[0m         \u001b[0mtexts\u001b[0m \u001b[0;34m=\u001b[0m \u001b[0;34m[\u001b[0m\u001b[0md\u001b[0m\u001b[0;34m.\u001b[0m\u001b[0mpage_content\u001b[0m \u001b[0;32mfor\u001b[0m \u001b[0md\u001b[0m \u001b[0;32min\u001b[0m \u001b[0mdocuments\u001b[0m\u001b[0;34m]\u001b[0m\u001b[0;34m\u001b[0m\u001b[0;34m\u001b[0m\u001b[0m\n\u001b[1;32m    507\u001b[0m         \u001b[0mmetadatas\u001b[0m \u001b[0;34m=\u001b[0m \u001b[0;34m[\u001b[0m\u001b[0md\u001b[0m\u001b[0;34m.\u001b[0m\u001b[0mmetadata\u001b[0m \u001b[0;32mfor\u001b[0m \u001b[0md\u001b[0m \u001b[0;32min\u001b[0m \u001b[0mdocuments\u001b[0m\u001b[0;34m]\u001b[0m\u001b[0;34m\u001b[0m\u001b[0;34m\u001b[0m\u001b[0m\n\u001b[0;32m--> 508\u001b[0;31m         \u001b[0;32mreturn\u001b[0m \u001b[0mcls\u001b[0m\u001b[0;34m.\u001b[0m\u001b[0mfrom_texts\u001b[0m\u001b[0;34m(\u001b[0m\u001b[0mtexts\u001b[0m\u001b[0;34m,\u001b[0m \u001b[0membedding\u001b[0m\u001b[0;34m,\u001b[0m \u001b[0mmetadatas\u001b[0m\u001b[0;34m=\u001b[0m\u001b[0mmetadatas\u001b[0m\u001b[0;34m,\u001b[0m \u001b[0;34m**\u001b[0m\u001b[0mkwargs\u001b[0m\u001b[0;34m)\u001b[0m\u001b[0;34m\u001b[0m\u001b[0;34m\u001b[0m\u001b[0m\n\u001b[0m\u001b[1;32m    509\u001b[0m \u001b[0;34m\u001b[0m\u001b[0m\n\u001b[1;32m    510\u001b[0m     \u001b[0;34m@\u001b[0m\u001b[0mclassmethod\u001b[0m\u001b[0;34m\u001b[0m\u001b[0;34m\u001b[0m\u001b[0m\n",
            "\u001b[0;32m/usr/local/lib/python3.10/dist-packages/langchain_community/vectorstores/faiss.py\u001b[0m in \u001b[0;36mfrom_texts\u001b[0;34m(cls, texts, embedding, metadatas, ids, **kwargs)\u001b[0m\n\u001b[1;32m    911\u001b[0m                 \u001b[0mfaiss\u001b[0m \u001b[0;34m=\u001b[0m \u001b[0mFAISS\u001b[0m\u001b[0;34m.\u001b[0m\u001b[0mfrom_texts\u001b[0m\u001b[0;34m(\u001b[0m\u001b[0mtexts\u001b[0m\u001b[0;34m,\u001b[0m \u001b[0membeddings\u001b[0m\u001b[0;34m)\u001b[0m\u001b[0;34m\u001b[0m\u001b[0;34m\u001b[0m\u001b[0m\n\u001b[1;32m    912\u001b[0m         \"\"\"\n\u001b[0;32m--> 913\u001b[0;31m         \u001b[0membeddings\u001b[0m \u001b[0;34m=\u001b[0m \u001b[0membedding\u001b[0m\u001b[0;34m.\u001b[0m\u001b[0membed_documents\u001b[0m\u001b[0;34m(\u001b[0m\u001b[0mtexts\u001b[0m\u001b[0;34m)\u001b[0m\u001b[0;34m\u001b[0m\u001b[0;34m\u001b[0m\u001b[0m\n\u001b[0m\u001b[1;32m    914\u001b[0m         return cls.__from(\n\u001b[1;32m    915\u001b[0m             \u001b[0mtexts\u001b[0m\u001b[0;34m,\u001b[0m\u001b[0;34m\u001b[0m\u001b[0;34m\u001b[0m\u001b[0m\n",
            "\u001b[0;32m/usr/local/lib/python3.10/dist-packages/langchain_community/embeddings/huggingface.py\u001b[0m in \u001b[0;36membed_documents\u001b[0;34m(self, texts)\u001b[0m\n\u001b[1;32m    168\u001b[0m         \"\"\"\n\u001b[1;32m    169\u001b[0m         \u001b[0minstruction_pairs\u001b[0m \u001b[0;34m=\u001b[0m \u001b[0;34m[\u001b[0m\u001b[0;34m[\u001b[0m\u001b[0mself\u001b[0m\u001b[0;34m.\u001b[0m\u001b[0membed_instruction\u001b[0m\u001b[0;34m,\u001b[0m \u001b[0mtext\u001b[0m\u001b[0;34m]\u001b[0m \u001b[0;32mfor\u001b[0m \u001b[0mtext\u001b[0m \u001b[0;32min\u001b[0m \u001b[0mtexts\u001b[0m\u001b[0;34m]\u001b[0m\u001b[0;34m\u001b[0m\u001b[0;34m\u001b[0m\u001b[0m\n\u001b[0;32m--> 170\u001b[0;31m         \u001b[0membeddings\u001b[0m \u001b[0;34m=\u001b[0m \u001b[0mself\u001b[0m\u001b[0;34m.\u001b[0m\u001b[0mclient\u001b[0m\u001b[0;34m.\u001b[0m\u001b[0mencode\u001b[0m\u001b[0;34m(\u001b[0m\u001b[0minstruction_pairs\u001b[0m\u001b[0;34m,\u001b[0m \u001b[0;34m**\u001b[0m\u001b[0mself\u001b[0m\u001b[0;34m.\u001b[0m\u001b[0mencode_kwargs\u001b[0m\u001b[0;34m)\u001b[0m\u001b[0;34m\u001b[0m\u001b[0;34m\u001b[0m\u001b[0m\n\u001b[0m\u001b[1;32m    171\u001b[0m         \u001b[0;32mreturn\u001b[0m \u001b[0membeddings\u001b[0m\u001b[0;34m.\u001b[0m\u001b[0mtolist\u001b[0m\u001b[0;34m(\u001b[0m\u001b[0;34m)\u001b[0m\u001b[0;34m\u001b[0m\u001b[0;34m\u001b[0m\u001b[0m\n\u001b[1;32m    172\u001b[0m \u001b[0;34m\u001b[0m\u001b[0m\n",
            "\u001b[0;32m/usr/local/lib/python3.10/dist-packages/InstructorEmbedding/instructor.py\u001b[0m in \u001b[0;36mencode\u001b[0;34m(self, sentences, batch_size, show_progress_bar, output_value, convert_to_numpy, convert_to_tensor, device, normalize_embeddings)\u001b[0m\n\u001b[1;32m    519\u001b[0m             \u001b[0mdevice\u001b[0m \u001b[0;34m=\u001b[0m \u001b[0mself\u001b[0m\u001b[0;34m.\u001b[0m\u001b[0m_target_device\u001b[0m\u001b[0;34m\u001b[0m\u001b[0;34m\u001b[0m\u001b[0m\n\u001b[1;32m    520\u001b[0m \u001b[0;34m\u001b[0m\u001b[0m\n\u001b[0;32m--> 521\u001b[0;31m         \u001b[0mself\u001b[0m\u001b[0;34m.\u001b[0m\u001b[0mto\u001b[0m\u001b[0;34m(\u001b[0m\u001b[0mdevice\u001b[0m\u001b[0;34m)\u001b[0m\u001b[0;34m\u001b[0m\u001b[0;34m\u001b[0m\u001b[0m\n\u001b[0m\u001b[1;32m    522\u001b[0m \u001b[0;34m\u001b[0m\u001b[0m\n\u001b[1;32m    523\u001b[0m         \u001b[0mall_embeddings\u001b[0m \u001b[0;34m=\u001b[0m \u001b[0;34m[\u001b[0m\u001b[0;34m]\u001b[0m\u001b[0;34m\u001b[0m\u001b[0;34m\u001b[0m\u001b[0m\n",
            "\u001b[0;32m/usr/local/lib/python3.10/dist-packages/torch/nn/modules/module.py\u001b[0m in \u001b[0;36mto\u001b[0;34m(self, *args, **kwargs)\u001b[0m\n\u001b[1;32m   1158\u001b[0m             \u001b[0;32mreturn\u001b[0m \u001b[0mt\u001b[0m\u001b[0;34m.\u001b[0m\u001b[0mto\u001b[0m\u001b[0;34m(\u001b[0m\u001b[0mdevice\u001b[0m\u001b[0;34m,\u001b[0m \u001b[0mdtype\u001b[0m \u001b[0;32mif\u001b[0m \u001b[0mt\u001b[0m\u001b[0;34m.\u001b[0m\u001b[0mis_floating_point\u001b[0m\u001b[0;34m(\u001b[0m\u001b[0;34m)\u001b[0m \u001b[0;32mor\u001b[0m \u001b[0mt\u001b[0m\u001b[0;34m.\u001b[0m\u001b[0mis_complex\u001b[0m\u001b[0;34m(\u001b[0m\u001b[0;34m)\u001b[0m \u001b[0;32melse\u001b[0m \u001b[0;32mNone\u001b[0m\u001b[0;34m,\u001b[0m \u001b[0mnon_blocking\u001b[0m\u001b[0;34m)\u001b[0m\u001b[0;34m\u001b[0m\u001b[0;34m\u001b[0m\u001b[0m\n\u001b[1;32m   1159\u001b[0m \u001b[0;34m\u001b[0m\u001b[0m\n\u001b[0;32m-> 1160\u001b[0;31m         \u001b[0;32mreturn\u001b[0m \u001b[0mself\u001b[0m\u001b[0;34m.\u001b[0m\u001b[0m_apply\u001b[0m\u001b[0;34m(\u001b[0m\u001b[0mconvert\u001b[0m\u001b[0;34m)\u001b[0m\u001b[0;34m\u001b[0m\u001b[0;34m\u001b[0m\u001b[0m\n\u001b[0m\u001b[1;32m   1161\u001b[0m \u001b[0;34m\u001b[0m\u001b[0m\n\u001b[1;32m   1162\u001b[0m     def register_full_backward_pre_hook(\n",
            "\u001b[0;32m/usr/local/lib/python3.10/dist-packages/torch/nn/modules/module.py\u001b[0m in \u001b[0;36m_apply\u001b[0;34m(self, fn, recurse)\u001b[0m\n\u001b[1;32m    808\u001b[0m         \u001b[0;32mif\u001b[0m \u001b[0mrecurse\u001b[0m\u001b[0;34m:\u001b[0m\u001b[0;34m\u001b[0m\u001b[0;34m\u001b[0m\u001b[0m\n\u001b[1;32m    809\u001b[0m             \u001b[0;32mfor\u001b[0m \u001b[0mmodule\u001b[0m \u001b[0;32min\u001b[0m \u001b[0mself\u001b[0m\u001b[0;34m.\u001b[0m\u001b[0mchildren\u001b[0m\u001b[0;34m(\u001b[0m\u001b[0;34m)\u001b[0m\u001b[0;34m:\u001b[0m\u001b[0;34m\u001b[0m\u001b[0;34m\u001b[0m\u001b[0m\n\u001b[0;32m--> 810\u001b[0;31m                 \u001b[0mmodule\u001b[0m\u001b[0;34m.\u001b[0m\u001b[0m_apply\u001b[0m\u001b[0;34m(\u001b[0m\u001b[0mfn\u001b[0m\u001b[0;34m)\u001b[0m\u001b[0;34m\u001b[0m\u001b[0;34m\u001b[0m\u001b[0m\n\u001b[0m\u001b[1;32m    811\u001b[0m \u001b[0;34m\u001b[0m\u001b[0m\n\u001b[1;32m    812\u001b[0m         \u001b[0;32mdef\u001b[0m \u001b[0mcompute_should_use_set_data\u001b[0m\u001b[0;34m(\u001b[0m\u001b[0mtensor\u001b[0m\u001b[0;34m,\u001b[0m \u001b[0mtensor_applied\u001b[0m\u001b[0;34m)\u001b[0m\u001b[0;34m:\u001b[0m\u001b[0;34m\u001b[0m\u001b[0;34m\u001b[0m\u001b[0m\n",
            "\u001b[0;32m/usr/local/lib/python3.10/dist-packages/torch/nn/modules/module.py\u001b[0m in \u001b[0;36m_apply\u001b[0;34m(self, fn, recurse)\u001b[0m\n\u001b[1;32m    808\u001b[0m         \u001b[0;32mif\u001b[0m \u001b[0mrecurse\u001b[0m\u001b[0;34m:\u001b[0m\u001b[0;34m\u001b[0m\u001b[0;34m\u001b[0m\u001b[0m\n\u001b[1;32m    809\u001b[0m             \u001b[0;32mfor\u001b[0m \u001b[0mmodule\u001b[0m \u001b[0;32min\u001b[0m \u001b[0mself\u001b[0m\u001b[0;34m.\u001b[0m\u001b[0mchildren\u001b[0m\u001b[0;34m(\u001b[0m\u001b[0;34m)\u001b[0m\u001b[0;34m:\u001b[0m\u001b[0;34m\u001b[0m\u001b[0;34m\u001b[0m\u001b[0m\n\u001b[0;32m--> 810\u001b[0;31m                 \u001b[0mmodule\u001b[0m\u001b[0;34m.\u001b[0m\u001b[0m_apply\u001b[0m\u001b[0;34m(\u001b[0m\u001b[0mfn\u001b[0m\u001b[0;34m)\u001b[0m\u001b[0;34m\u001b[0m\u001b[0;34m\u001b[0m\u001b[0m\n\u001b[0m\u001b[1;32m    811\u001b[0m \u001b[0;34m\u001b[0m\u001b[0m\n\u001b[1;32m    812\u001b[0m         \u001b[0;32mdef\u001b[0m \u001b[0mcompute_should_use_set_data\u001b[0m\u001b[0;34m(\u001b[0m\u001b[0mtensor\u001b[0m\u001b[0;34m,\u001b[0m \u001b[0mtensor_applied\u001b[0m\u001b[0;34m)\u001b[0m\u001b[0;34m:\u001b[0m\u001b[0;34m\u001b[0m\u001b[0;34m\u001b[0m\u001b[0m\n",
            "\u001b[0;32m/usr/local/lib/python3.10/dist-packages/torch/nn/modules/module.py\u001b[0m in \u001b[0;36m_apply\u001b[0;34m(self, fn, recurse)\u001b[0m\n\u001b[1;32m    808\u001b[0m         \u001b[0;32mif\u001b[0m \u001b[0mrecurse\u001b[0m\u001b[0;34m:\u001b[0m\u001b[0;34m\u001b[0m\u001b[0;34m\u001b[0m\u001b[0m\n\u001b[1;32m    809\u001b[0m             \u001b[0;32mfor\u001b[0m \u001b[0mmodule\u001b[0m \u001b[0;32min\u001b[0m \u001b[0mself\u001b[0m\u001b[0;34m.\u001b[0m\u001b[0mchildren\u001b[0m\u001b[0;34m(\u001b[0m\u001b[0;34m)\u001b[0m\u001b[0;34m:\u001b[0m\u001b[0;34m\u001b[0m\u001b[0;34m\u001b[0m\u001b[0m\n\u001b[0;32m--> 810\u001b[0;31m                 \u001b[0mmodule\u001b[0m\u001b[0;34m.\u001b[0m\u001b[0m_apply\u001b[0m\u001b[0;34m(\u001b[0m\u001b[0mfn\u001b[0m\u001b[0;34m)\u001b[0m\u001b[0;34m\u001b[0m\u001b[0;34m\u001b[0m\u001b[0m\n\u001b[0m\u001b[1;32m    811\u001b[0m \u001b[0;34m\u001b[0m\u001b[0m\n\u001b[1;32m    812\u001b[0m         \u001b[0;32mdef\u001b[0m \u001b[0mcompute_should_use_set_data\u001b[0m\u001b[0;34m(\u001b[0m\u001b[0mtensor\u001b[0m\u001b[0;34m,\u001b[0m \u001b[0mtensor_applied\u001b[0m\u001b[0;34m)\u001b[0m\u001b[0;34m:\u001b[0m\u001b[0;34m\u001b[0m\u001b[0;34m\u001b[0m\u001b[0m\n",
            "\u001b[0;32m/usr/local/lib/python3.10/dist-packages/torch/nn/modules/module.py\u001b[0m in \u001b[0;36m_apply\u001b[0;34m(self, fn, recurse)\u001b[0m\n\u001b[1;32m    831\u001b[0m             \u001b[0;31m# `with torch.no_grad():`\u001b[0m\u001b[0;34m\u001b[0m\u001b[0;34m\u001b[0m\u001b[0m\n\u001b[1;32m    832\u001b[0m             \u001b[0;32mwith\u001b[0m \u001b[0mtorch\u001b[0m\u001b[0;34m.\u001b[0m\u001b[0mno_grad\u001b[0m\u001b[0;34m(\u001b[0m\u001b[0;34m)\u001b[0m\u001b[0;34m:\u001b[0m\u001b[0;34m\u001b[0m\u001b[0;34m\u001b[0m\u001b[0m\n\u001b[0;32m--> 833\u001b[0;31m                 \u001b[0mparam_applied\u001b[0m \u001b[0;34m=\u001b[0m \u001b[0mfn\u001b[0m\u001b[0;34m(\u001b[0m\u001b[0mparam\u001b[0m\u001b[0;34m)\u001b[0m\u001b[0;34m\u001b[0m\u001b[0;34m\u001b[0m\u001b[0m\n\u001b[0m\u001b[1;32m    834\u001b[0m             \u001b[0mshould_use_set_data\u001b[0m \u001b[0;34m=\u001b[0m \u001b[0mcompute_should_use_set_data\u001b[0m\u001b[0;34m(\u001b[0m\u001b[0mparam\u001b[0m\u001b[0;34m,\u001b[0m \u001b[0mparam_applied\u001b[0m\u001b[0;34m)\u001b[0m\u001b[0;34m\u001b[0m\u001b[0;34m\u001b[0m\u001b[0m\n\u001b[1;32m    835\u001b[0m             \u001b[0;32mif\u001b[0m \u001b[0mshould_use_set_data\u001b[0m\u001b[0;34m:\u001b[0m\u001b[0;34m\u001b[0m\u001b[0;34m\u001b[0m\u001b[0m\n",
            "\u001b[0;32m/usr/local/lib/python3.10/dist-packages/torch/nn/modules/module.py\u001b[0m in \u001b[0;36mconvert\u001b[0;34m(t)\u001b[0m\n\u001b[1;32m   1156\u001b[0m                 return t.to(device, dtype if t.is_floating_point() or t.is_complex() else None,\n\u001b[1;32m   1157\u001b[0m                             non_blocking, memory_format=convert_to_format)\n\u001b[0;32m-> 1158\u001b[0;31m             \u001b[0;32mreturn\u001b[0m \u001b[0mt\u001b[0m\u001b[0;34m.\u001b[0m\u001b[0mto\u001b[0m\u001b[0;34m(\u001b[0m\u001b[0mdevice\u001b[0m\u001b[0;34m,\u001b[0m \u001b[0mdtype\u001b[0m \u001b[0;32mif\u001b[0m \u001b[0mt\u001b[0m\u001b[0;34m.\u001b[0m\u001b[0mis_floating_point\u001b[0m\u001b[0;34m(\u001b[0m\u001b[0;34m)\u001b[0m \u001b[0;32mor\u001b[0m \u001b[0mt\u001b[0m\u001b[0;34m.\u001b[0m\u001b[0mis_complex\u001b[0m\u001b[0;34m(\u001b[0m\u001b[0;34m)\u001b[0m \u001b[0;32melse\u001b[0m \u001b[0;32mNone\u001b[0m\u001b[0;34m,\u001b[0m \u001b[0mnon_blocking\u001b[0m\u001b[0;34m)\u001b[0m\u001b[0;34m\u001b[0m\u001b[0;34m\u001b[0m\u001b[0m\n\u001b[0m\u001b[1;32m   1159\u001b[0m \u001b[0;34m\u001b[0m\u001b[0m\n\u001b[1;32m   1160\u001b[0m         \u001b[0;32mreturn\u001b[0m \u001b[0mself\u001b[0m\u001b[0;34m.\u001b[0m\u001b[0m_apply\u001b[0m\u001b[0;34m(\u001b[0m\u001b[0mconvert\u001b[0m\u001b[0;34m)\u001b[0m\u001b[0;34m\u001b[0m\u001b[0;34m\u001b[0m\u001b[0m\n",
            "\u001b[0;32m/usr/local/lib/python3.10/dist-packages/torch/cuda/__init__.py\u001b[0m in \u001b[0;36m_lazy_init\u001b[0;34m()\u001b[0m\n\u001b[1;32m    296\u001b[0m         \u001b[0;32mif\u001b[0m \u001b[0;34m\"CUDA_MODULE_LOADING\"\u001b[0m \u001b[0;32mnot\u001b[0m \u001b[0;32min\u001b[0m \u001b[0mos\u001b[0m\u001b[0;34m.\u001b[0m\u001b[0menviron\u001b[0m\u001b[0;34m:\u001b[0m\u001b[0;34m\u001b[0m\u001b[0;34m\u001b[0m\u001b[0m\n\u001b[1;32m    297\u001b[0m             \u001b[0mos\u001b[0m\u001b[0;34m.\u001b[0m\u001b[0menviron\u001b[0m\u001b[0;34m[\u001b[0m\u001b[0;34m\"CUDA_MODULE_LOADING\"\u001b[0m\u001b[0;34m]\u001b[0m \u001b[0;34m=\u001b[0m \u001b[0;34m\"LAZY\"\u001b[0m\u001b[0;34m\u001b[0m\u001b[0;34m\u001b[0m\u001b[0m\n\u001b[0;32m--> 298\u001b[0;31m         \u001b[0mtorch\u001b[0m\u001b[0;34m.\u001b[0m\u001b[0m_C\u001b[0m\u001b[0;34m.\u001b[0m\u001b[0m_cuda_init\u001b[0m\u001b[0;34m(\u001b[0m\u001b[0;34m)\u001b[0m\u001b[0;34m\u001b[0m\u001b[0;34m\u001b[0m\u001b[0m\n\u001b[0m\u001b[1;32m    299\u001b[0m         \u001b[0;31m# Some of the queued calls may reentrantly call _lazy_init();\u001b[0m\u001b[0;34m\u001b[0m\u001b[0;34m\u001b[0m\u001b[0m\n\u001b[1;32m    300\u001b[0m         \u001b[0;31m# we need to just return without initializing in that case.\u001b[0m\u001b[0;34m\u001b[0m\u001b[0;34m\u001b[0m\u001b[0m\n",
            "\u001b[0;31mRuntimeError\u001b[0m: Found no NVIDIA driver on your system. Please check that you have an NVIDIA GPU and installed a driver from http://www.nvidia.com/Download/index.aspx"
          ]
        }
      ]
    },
    {
      "cell_type": "code",
      "source": [],
      "metadata": {
        "id": "GkKMBUksdRDD"
      },
      "execution_count": null,
      "outputs": []
    }
  ]
}